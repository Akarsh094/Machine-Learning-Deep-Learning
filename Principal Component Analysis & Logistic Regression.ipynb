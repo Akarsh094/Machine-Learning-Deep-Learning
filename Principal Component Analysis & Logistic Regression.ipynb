{
 "cells": [
  {
   "cell_type": "markdown",
   "metadata": {},
   "source": [
    "# Assignment 3\n",
    "## Akarsh Sahu\n",
    "## 10-16-2019"
   ]
  },
  {
   "cell_type": "code",
   "execution_count": 1,
   "metadata": {},
   "outputs": [],
   "source": [
    "import pandas as pd\n",
    "import numpy as np"
   ]
  },
  {
   "cell_type": "markdown",
   "metadata": {},
   "source": [
    "# Part 1: Data Processing"
   ]
  },
  {
   "cell_type": "markdown",
   "metadata": {},
   "source": [
    "a) Import the data: Only keep numeric data (pandas has tools to do this!). Drop \"PHONE\" and \"COUNTRY_SSA\" as well. Verify that your data has the following shape: (15617, 28)"
   ]
  },
  {
   "cell_type": "code",
   "execution_count": 2,
   "metadata": {},
   "outputs": [
    {
     "data": {
      "text/html": [
       "<div>\n",
       "<style scoped>\n",
       "    .dataframe tbody tr th:only-of-type {\n",
       "        vertical-align: middle;\n",
       "    }\n",
       "\n",
       "    .dataframe tbody tr th {\n",
       "        vertical-align: top;\n",
       "    }\n",
       "\n",
       "    .dataframe thead th {\n",
       "        text-align: right;\n",
       "    }\n",
       "</style>\n",
       "<table border=\"1\" class=\"dataframe\">\n",
       "  <thead>\n",
       "    <tr style=\"text-align: right;\">\n",
       "      <th></th>\n",
       "      <th>PROVNUM</th>\n",
       "      <th>PROVNAME</th>\n",
       "      <th>ADDRESS</th>\n",
       "      <th>CITY</th>\n",
       "      <th>STATE</th>\n",
       "      <th>ZIP</th>\n",
       "      <th>PHONE</th>\n",
       "      <th>COUNTY_SSA</th>\n",
       "      <th>COUNTY_NAME</th>\n",
       "      <th>OWNERSHIP</th>\n",
       "      <th>...</th>\n",
       "      <th>CYCLE_2_REVISIT_SCORE</th>\n",
       "      <th>CYCLE_2_TOTAL_SCORE</th>\n",
       "      <th>WEIGHTED_ALL_CYCLES_SCORE</th>\n",
       "      <th>INCIDENT_CNT</th>\n",
       "      <th>CMPLNT_CNT</th>\n",
       "      <th>FINE_CNT</th>\n",
       "      <th>FINE_TOT</th>\n",
       "      <th>PAYDEN_CNT</th>\n",
       "      <th>TOT_PENLTY_CNT</th>\n",
       "      <th>FILEDATE</th>\n",
       "    </tr>\n",
       "  </thead>\n",
       "  <tbody>\n",
       "    <tr>\n",
       "      <th>0</th>\n",
       "      <td>15009</td>\n",
       "      <td>BURNS NURSING HOME, INC.</td>\n",
       "      <td>701 MONROE STREET NW</td>\n",
       "      <td>RUSSELLVILLE</td>\n",
       "      <td>AL</td>\n",
       "      <td>35653.0</td>\n",
       "      <td>2.563324e+09</td>\n",
       "      <td>290.0</td>\n",
       "      <td>Franklin</td>\n",
       "      <td>For profit - Individual</td>\n",
       "      <td>...</td>\n",
       "      <td>0</td>\n",
       "      <td>8</td>\n",
       "      <td>3.2</td>\n",
       "      <td>0.0</td>\n",
       "      <td>0.0</td>\n",
       "      <td>0.0</td>\n",
       "      <td>0.0</td>\n",
       "      <td>0.0</td>\n",
       "      <td>0.0</td>\n",
       "      <td>2018-07-01</td>\n",
       "    </tr>\n",
       "    <tr>\n",
       "      <th>1</th>\n",
       "      <td>15010</td>\n",
       "      <td>COOSA VALLEY NURSING FACILITY</td>\n",
       "      <td>315 WEST HICKORY STREET</td>\n",
       "      <td>SYLACAUGA</td>\n",
       "      <td>AL</td>\n",
       "      <td>35150.0</td>\n",
       "      <td>2.562496e+09</td>\n",
       "      <td>600.0</td>\n",
       "      <td>Talladega</td>\n",
       "      <td>For profit - Corporation</td>\n",
       "      <td>...</td>\n",
       "      <td>0</td>\n",
       "      <td>16</td>\n",
       "      <td>28</td>\n",
       "      <td>0.0</td>\n",
       "      <td>0.0</td>\n",
       "      <td>1.0</td>\n",
       "      <td>15259.0</td>\n",
       "      <td>1.0</td>\n",
       "      <td>2.0</td>\n",
       "      <td>2018-07-01</td>\n",
       "    </tr>\n",
       "    <tr>\n",
       "      <th>2</th>\n",
       "      <td>15012</td>\n",
       "      <td>HIGHLANDS HEALTH AND REHAB</td>\n",
       "      <td>380 WOODS COVE ROAD</td>\n",
       "      <td>SCOTTSBORO</td>\n",
       "      <td>AL</td>\n",
       "      <td>35768.0</td>\n",
       "      <td>2.562184e+09</td>\n",
       "      <td>350.0</td>\n",
       "      <td>Jackson</td>\n",
       "      <td>Government - County</td>\n",
       "      <td>...</td>\n",
       "      <td>0</td>\n",
       "      <td>12</td>\n",
       "      <td>31.2</td>\n",
       "      <td>0.0</td>\n",
       "      <td>0.0</td>\n",
       "      <td>0.0</td>\n",
       "      <td>0.0</td>\n",
       "      <td>0.0</td>\n",
       "      <td>0.0</td>\n",
       "      <td>2018-07-01</td>\n",
       "    </tr>\n",
       "    <tr>\n",
       "      <th>3</th>\n",
       "      <td>15014</td>\n",
       "      <td>EASTVIEW REHABILITATION &amp; HEALTHCARE CENTER</td>\n",
       "      <td>7755 FOURTH AVENUE SOUTH</td>\n",
       "      <td>BIRMINGHAM</td>\n",
       "      <td>AL</td>\n",
       "      <td>35206.0</td>\n",
       "      <td>2.058330e+09</td>\n",
       "      <td>360.0</td>\n",
       "      <td>Jefferson</td>\n",
       "      <td>For profit - Corporation</td>\n",
       "      <td>...</td>\n",
       "      <td>0</td>\n",
       "      <td>24</td>\n",
       "      <td>33.6</td>\n",
       "      <td>0.0</td>\n",
       "      <td>1.0</td>\n",
       "      <td>0.0</td>\n",
       "      <td>0.0</td>\n",
       "      <td>0.0</td>\n",
       "      <td>0.0</td>\n",
       "      <td>2018-07-01</td>\n",
       "    </tr>\n",
       "    <tr>\n",
       "      <th>4</th>\n",
       "      <td>15015</td>\n",
       "      <td>PLANTATION MANOR NURSING HOME</td>\n",
       "      <td>6450 OLD TUSCALOOSA HIGHWAY   P O BOX 97</td>\n",
       "      <td>MC CALLA</td>\n",
       "      <td>AL</td>\n",
       "      <td>35111.0</td>\n",
       "      <td>2.054776e+09</td>\n",
       "      <td>360.0</td>\n",
       "      <td>Jefferson</td>\n",
       "      <td>For profit - Corporation</td>\n",
       "      <td>...</td>\n",
       "      <td>0</td>\n",
       "      <td>24</td>\n",
       "      <td>19.2</td>\n",
       "      <td>0.0</td>\n",
       "      <td>0.0</td>\n",
       "      <td>0.0</td>\n",
       "      <td>0.0</td>\n",
       "      <td>0.0</td>\n",
       "      <td>0.0</td>\n",
       "      <td>2018-07-01</td>\n",
       "    </tr>\n",
       "  </tbody>\n",
       "</table>\n",
       "<p>5 rows × 78 columns</p>\n",
       "</div>"
      ],
      "text/plain": [
       "  PROVNUM                                     PROVNAME  \\\n",
       "0   15009                     BURNS NURSING HOME, INC.   \n",
       "1   15010                COOSA VALLEY NURSING FACILITY   \n",
       "2   15012                   HIGHLANDS HEALTH AND REHAB   \n",
       "3   15014  EASTVIEW REHABILITATION & HEALTHCARE CENTER   \n",
       "4   15015                PLANTATION MANOR NURSING HOME   \n",
       "\n",
       "                                    ADDRESS          CITY STATE      ZIP  \\\n",
       "0                      701 MONROE STREET NW  RUSSELLVILLE    AL  35653.0   \n",
       "1                   315 WEST HICKORY STREET     SYLACAUGA    AL  35150.0   \n",
       "2                       380 WOODS COVE ROAD    SCOTTSBORO    AL  35768.0   \n",
       "3                  7755 FOURTH AVENUE SOUTH    BIRMINGHAM    AL  35206.0   \n",
       "4  6450 OLD TUSCALOOSA HIGHWAY   P O BOX 97      MC CALLA    AL  35111.0   \n",
       "\n",
       "          PHONE  COUNTY_SSA COUNTY_NAME                 OWNERSHIP  ...  \\\n",
       "0  2.563324e+09       290.0    Franklin   For profit - Individual  ...   \n",
       "1  2.562496e+09       600.0   Talladega  For profit - Corporation  ...   \n",
       "2  2.562184e+09       350.0     Jackson       Government - County  ...   \n",
       "3  2.058330e+09       360.0   Jefferson  For profit - Corporation  ...   \n",
       "4  2.054776e+09       360.0   Jefferson  For profit - Corporation  ...   \n",
       "\n",
       "   CYCLE_2_REVISIT_SCORE  CYCLE_2_TOTAL_SCORE WEIGHTED_ALL_CYCLES_SCORE  \\\n",
       "0                      0                    8                       3.2   \n",
       "1                      0                   16                        28   \n",
       "2                      0                   12                      31.2   \n",
       "3                      0                   24                      33.6   \n",
       "4                      0                   24                      19.2   \n",
       "\n",
       "  INCIDENT_CNT CMPLNT_CNT FINE_CNT FINE_TOT PAYDEN_CNT TOT_PENLTY_CNT  \\\n",
       "0          0.0        0.0      0.0      0.0        0.0            0.0   \n",
       "1          0.0        0.0      1.0  15259.0        1.0            2.0   \n",
       "2          0.0        0.0      0.0      0.0        0.0            0.0   \n",
       "3          0.0        1.0      0.0      0.0        0.0            0.0   \n",
       "4          0.0        0.0      0.0      0.0        0.0            0.0   \n",
       "\n",
       "     FILEDATE  \n",
       "0  2018-07-01  \n",
       "1  2018-07-01  \n",
       "2  2018-07-01  \n",
       "3  2018-07-01  \n",
       "4  2018-07-01  \n",
       "\n",
       "[5 rows x 78 columns]"
      ]
     },
     "execution_count": 2,
     "metadata": {},
     "output_type": "execute_result"
    }
   ],
   "source": [
    "directory = \"C:\\\\Users\\\\akars\\\\OneDrive\\\\Desktop\\\\MSCA Program\\\\MScA Autumn\\\\Machine Learning\\\\Assignments\\\\Assignment 3\\\\\"\n",
    "data = pd.read_csv(directory + \"ProviderInfo.csv\")\n",
    "data.head()"
   ]
  },
  {
   "cell_type": "code",
   "execution_count": 3,
   "metadata": {
    "scrolled": true
   },
   "outputs": [
    {
     "data": {
      "text/plain": [
       "PROVNUM                       object\n",
       "PROVNAME                      object\n",
       "ADDRESS                       object\n",
       "CITY                          object\n",
       "STATE                         object\n",
       "ZIP                          float64\n",
       "PHONE                        float64\n",
       "COUNTY_SSA                   float64\n",
       "COUNTY_NAME                   object\n",
       "OWNERSHIP                     object\n",
       "BEDCERT                      float64\n",
       "RESTOT                       float64\n",
       "CERTIFICATION                 object\n",
       "INHOSP                        object\n",
       "LBN                           object\n",
       "PARTICIPATION_DATE            object\n",
       "CCRC_FACIL                    object\n",
       "SFF                           object\n",
       "OLDSURVEY                     object\n",
       "CHOW_LAST_12MOS               object\n",
       "RESFAMCOUNCIL                 object\n",
       "SPRINKLER_STATUS              object\n",
       "OVERALL_RATING               float64\n",
       "overall_rating_fn             object\n",
       "SURVEY_RATING                float64\n",
       "survey_rating_fn              object\n",
       "QUALITY_RATING               float64\n",
       "quality_rating_fn             object\n",
       "STAFFING_RATING              float64\n",
       "staffing_rating_fn            object\n",
       "                              ...   \n",
       "R_SRVY_DT_F                   object\n",
       "R_TOT_HTH_DFCNCY              object\n",
       "R_HTH_SVRTY                   object\n",
       "R_HTH_SCOPE                   object\n",
       "PREV_SRVY_DT_F                object\n",
       "PREV_TOT_HTH_DFCNCY           object\n",
       "CYCLE_1_SURVEY_DATE           object\n",
       "CYCLE_1_DEFS                  object\n",
       "CYCLE_1_NFROMDEFS             object\n",
       "CYCLE_1_NFROMCOMP             object\n",
       "CYCLE_1_DEFS_SCORE            object\n",
       "CYCLE_1_NUMREVIS              object\n",
       "CYCLE_1_REVISIT_SCORE         object\n",
       "CYCLE_1_TOTAL_SCORE           object\n",
       "CYCLE_2_SURVEY_DATE           object\n",
       "CYCLE_2_DEFS                  object\n",
       "CYCLE_2_NFROMDEFS             object\n",
       "CYCLE_2_NFROMCOMP             object\n",
       "CYCLE_2_DEFS_SCORE            object\n",
       "CYCLE_2_NUMREVIS              object\n",
       "CYCLE_2_REVISIT_SCORE         object\n",
       "CYCLE_2_TOTAL_SCORE           object\n",
       "WEIGHTED_ALL_CYCLES_SCORE     object\n",
       "INCIDENT_CNT                 float64\n",
       "CMPLNT_CNT                   float64\n",
       "FINE_CNT                     float64\n",
       "FINE_TOT                     float64\n",
       "PAYDEN_CNT                   float64\n",
       "TOT_PENLTY_CNT               float64\n",
       "FILEDATE                      object\n",
       "Length: 78, dtype: object"
      ]
     },
     "execution_count": 3,
     "metadata": {},
     "output_type": "execute_result"
    }
   ],
   "source": [
    "data.dtypes"
   ]
  },
  {
   "cell_type": "code",
   "execution_count": 4,
   "metadata": {},
   "outputs": [
    {
     "data": {
      "text/plain": [
       "(15617, 28)"
      ]
     },
     "execution_count": 4,
     "metadata": {},
     "output_type": "execute_result"
    }
   ],
   "source": [
    "data1 = data.select_dtypes(include=['float64'])\n",
    "data1 = data1.drop(['ZIP', 'PHONE'], axis = 1)\n",
    "data1.shape"
   ]
  },
  {
   "cell_type": "markdown",
   "metadata": {},
   "source": [
    "b) This data is extra messy and has some NaN and NaT values, which need to be removed completely. Hint: NaT values should be replaced by \"np.nan.\" After this step, remove any rows that have an NaN value. Verify that your dataframe was properly updated to the following shape: (14557, 28)"
   ]
  },
  {
   "cell_type": "code",
   "execution_count": 5,
   "metadata": {},
   "outputs": [],
   "source": [
    "# we don't need to explicitly remove NaT as we already removed datetime columns. Hence, just filter out NAs\n",
    "data2 = data1.dropna()"
   ]
  },
  {
   "cell_type": "code",
   "execution_count": 6,
   "metadata": {},
   "outputs": [
    {
     "data": {
      "text/plain": [
       "(14557, 28)"
      ]
     },
     "execution_count": 6,
     "metadata": {},
     "output_type": "execute_result"
    }
   ],
   "source": [
    "data2.shape"
   ]
  },
  {
   "cell_type": "code",
   "execution_count": 7,
   "metadata": {
    "scrolled": false
   },
   "outputs": [],
   "source": [
    "X = data2.loc[:, data2.columns != 'OVERALL_RATING']\n",
    "y = data2['OVERALL_RATING']\n"
   ]
  },
  {
   "cell_type": "markdown",
   "metadata": {},
   "source": [
    "c) Split into train / test set using an 80/20 split"
   ]
  },
  {
   "cell_type": "code",
   "execution_count": 8,
   "metadata": {},
   "outputs": [],
   "source": [
    "from sklearn.model_selection import train_test_split\n",
    "\n",
    "X_train, X_test, y_train, y_test = train_test_split(X,y, test_size = 0.2, random_state = 123 )\n"
   ]
  },
  {
   "cell_type": "markdown",
   "metadata": {},
   "source": [
    "d) Scale X_train data properly (Do not scale the Target Variable): Recall from HW #2 the proper method of scaling."
   ]
  },
  {
   "cell_type": "code",
   "execution_count": 9,
   "metadata": {},
   "outputs": [],
   "source": [
    "#  Scale all predictors in train and test set.\n",
    "\n",
    "from sklearn.preprocessing import StandardScaler\n",
    "scaler = StandardScaler().fit(X_train)\n",
    "X_train_scale = scaler.transform(X_train)\n",
    "X_test_scale = scaler.transform(X_test)"
   ]
  },
  {
   "cell_type": "markdown",
   "metadata": {},
   "source": [
    "# Part 2: Logistic Regression Model"
   ]
  },
  {
   "cell_type": "markdown",
   "metadata": {},
   "source": [
    "a) Pick up from step d in Problem 1 (use the same data that has been scaled): Using LogisticRegression(), build a model to predict the \"OVERALL_RATING\". Note: The default in sklearn is \"one-vs-rest\" classification, where we calculate the probability of each class compared to the rest. Please use this for your homework. "
   ]
  },
  {
   "cell_type": "code",
   "execution_count": 10,
   "metadata": {},
   "outputs": [],
   "source": [
    "## Logistic Model"
   ]
  },
  {
   "cell_type": "code",
   "execution_count": 11,
   "metadata": {},
   "outputs": [
    {
     "name": "stderr",
     "output_type": "stream",
     "text": [
      "C:\\Users\\akars\\Anaconda3\\lib\\site-packages\\sklearn\\linear_model\\logistic.py:433: FutureWarning: Default solver will be changed to 'lbfgs' in 0.22. Specify a solver to silence this warning.\n",
      "  FutureWarning)\n",
      "C:\\Users\\akars\\Anaconda3\\lib\\site-packages\\sklearn\\linear_model\\logistic.py:460: FutureWarning: Default multi_class will be changed to 'auto' in 0.22. Specify the multi_class option to silence this warning.\n",
      "  \"this warning.\", FutureWarning)\n"
     ]
    },
    {
     "data": {
      "text/plain": [
       "LogisticRegression(C=1.0, class_weight=None, dual=False, fit_intercept=True,\n",
       "          intercept_scaling=1, max_iter=100, multi_class='warn',\n",
       "          n_jobs=None, penalty='l2', random_state=None, solver='warn',\n",
       "          tol=0.0001, verbose=0, warm_start=False)"
      ]
     },
     "execution_count": 11,
     "metadata": {},
     "output_type": "execute_result"
    }
   ],
   "source": [
    "from sklearn.linear_model import LogisticRegression\n",
    "\n",
    "logreg = LogisticRegression()\n",
    "\n",
    "logreg.fit(X_train_scale, y_train)"
   ]
  },
  {
   "cell_type": "markdown",
   "metadata": {},
   "source": [
    "b) For error evaluation, start by calculating the score (returns the mean accuracy).You can use the .score() method. "
   ]
  },
  {
   "cell_type": "code",
   "execution_count": 12,
   "metadata": {},
   "outputs": [
    {
     "data": {
      "text/plain": [
       "0.7013310433662516"
      ]
     },
     "execution_count": 12,
     "metadata": {},
     "output_type": "execute_result"
    }
   ],
   "source": [
    "# Calculate Score - Mean Accuracy\n",
    "logreg.score(X_train_scale, y_train)\n"
   ]
  },
  {
   "cell_type": "markdown",
   "metadata": {},
   "source": [
    "c) Calculate the confusion matrix and classification report for the test data (both are in sklearn.metrics). To do this, you will need to first predict the class of each observation in the test data. "
   ]
  },
  {
   "cell_type": "code",
   "execution_count": 13,
   "metadata": {},
   "outputs": [
    {
     "name": "stdout",
     "output_type": "stream",
     "text": [
      "Confusion Matrix\n",
      "\n",
      " [[271  76   0   0   0]\n",
      " [ 69 434  66   4   0]\n",
      " [  0 199  65 201   0]\n",
      " [  0 100   9 451 104]\n",
      " [  0   0   0  23 840]]\n",
      "\n",
      "\n",
      "\n",
      "Classification Report\n",
      "\n",
      "               precision    recall  f1-score   support\n",
      "\n",
      "         1.0       0.80      0.78      0.79       347\n",
      "         2.0       0.54      0.76      0.63       573\n",
      "         3.0       0.46      0.14      0.21       465\n",
      "         4.0       0.66      0.68      0.67       664\n",
      "         5.0       0.89      0.97      0.93       863\n",
      "\n",
      "   micro avg       0.71      0.71      0.71      2912\n",
      "   macro avg       0.67      0.67      0.65      2912\n",
      "weighted avg       0.69      0.71      0.68      2912\n",
      "\n"
     ]
    }
   ],
   "source": [
    "y_pred = logreg.predict(X_test_scale)\n",
    "\n",
    "# import the metrics class\n",
    "from sklearn import metrics\n",
    "\n",
    "#Confusion Matrix\n",
    "cnf_matrix = metrics.confusion_matrix(y_test, y_pred)\n",
    "print(\"Confusion Matrix\\n\\n\", cnf_matrix)\n",
    "\n",
    "print(\"\\n\\n\")\n",
    "#Classification Report\n",
    "cl_report = metrics.classification_report(y_test, y_pred)\n",
    "print(\"Classification Report\\n\\n\", cl_report)"
   ]
  },
  {
   "cell_type": "code",
   "execution_count": 14,
   "metadata": {},
   "outputs": [
    {
     "data": {
      "text/plain": [
       "Text(0.5, 257.44, 'Predicted label')"
      ]
     },
     "execution_count": 14,
     "metadata": {},
     "output_type": "execute_result"
    },
    {
     "data": {
      "image/png": "[encoded data removed]",
      "text/plain": [
       "<Figure size 432x288 with 2 Axes>"
      ]
     },
     "metadata": {
      "needs_background": "light"
     },
     "output_type": "display_data"
    }
   ],
   "source": [
    "# import required modules\n",
    "import numpy as np\n",
    "import matplotlib.pyplot as plt\n",
    "import seaborn as sns\n",
    "%matplotlib inline\n",
    "\n",
    "class_names=[0,1,2,3,4] # name  of classes\n",
    "fig, ax = plt.subplots()\n",
    "tick_marks = np.arange(len(class_names))\n",
    "plt.xticks(tick_marks, class_names)\n",
    "plt.yticks(tick_marks, class_names)\n",
    "# create heatmap\n",
    "sns.heatmap(pd.DataFrame(cnf_matrix), annot=True, cmap=\"YlGnBu\" ,fmt='g')\n",
    "ax.xaxis.set_label_position(\"top\")\n",
    "plt.tight_layout()\n",
    "plt.title('Confusion matrix', y=1.1)\n",
    "plt.ylabel('Actual label')\n",
    "plt.xlabel('Predicted label')"
   ]
  },
  {
   "cell_type": "markdown",
   "metadata": {},
   "source": [
    "d) Based on the confusion matrix and classification report, do any of the classes get predicted exceptionally poorly? If so, comment briefly on what might be causing this to happen"
   ]
  },
  {
   "cell_type": "markdown",
   "metadata": {},
   "source": [
    "Class 3 got predicted exceptionally poorly. The F1 score is very low compared to the rest. Also, the value for recall is also extremely low. One reason might be that there are a lot of zeroes, so when the values were scaled the values that were originally zeroes all resulted in the same scaled number. Also because logistic regression is a binary classifier where the decision is made based on how far/close or higher/lower the result is from 0.5, the output suffers from symmetric bias."
   ]
  },
  {
   "cell_type": "markdown",
   "metadata": {},
   "source": [
    "e) Calculate predictions for the training data & build the confusion matrix and classification report. Are there signs of overfitting? Why or why not?"
   ]
  },
  {
   "cell_type": "code",
   "execution_count": 15,
   "metadata": {},
   "outputs": [
    {
     "name": "stdout",
     "output_type": "stream",
     "text": [
      "Confusion Matrix\n",
      "\n",
      " [[1048  302    2    0    0]\n",
      " [ 233 1702  353   37    0]\n",
      " [   0  764  303  861    0]\n",
      " [   0  397   15 1815  427]\n",
      " [   0    0    0   87 3299]]\n",
      "\n",
      "\n",
      "\n",
      "Classification Report\n",
      "\n",
      "               precision    recall  f1-score   support\n",
      "\n",
      "         1.0       0.82      0.78      0.80      1352\n",
      "         2.0       0.54      0.73      0.62      2325\n",
      "         3.0       0.45      0.16      0.23      1928\n",
      "         4.0       0.65      0.68      0.67      2654\n",
      "         5.0       0.89      0.97      0.93      3386\n",
      "\n",
      "   micro avg       0.70      0.70      0.70     11645\n",
      "   macro avg       0.67      0.66      0.65     11645\n",
      "weighted avg       0.68      0.70      0.68     11645\n",
      "\n"
     ]
    }
   ],
   "source": [
    "y_tr_pred = logreg.predict(X_train_scale)\n",
    "\n",
    "# import the metrics class\n",
    "from sklearn import metrics\n",
    "\n",
    "#Confusion Matrix\n",
    "cnf_matrix = metrics.confusion_matrix(y_train, y_tr_pred)\n",
    "print(\"Confusion Matrix\\n\\n\", cnf_matrix)\n",
    "\n",
    "print(\"\\n\\n\")\n",
    "#Classification Report\n",
    "cl_report = metrics.classification_report(y_train, y_tr_pred)\n",
    "print(\"Classification Report\\n\\n\", cl_report)"
   ]
  },
  {
   "cell_type": "markdown",
   "metadata": {},
   "source": [
    "There is no sign of overfitting. After comparing this to the classification report from the test dataset, there aren't significant differences in the accuracy for both models."
   ]
  },
  {
   "cell_type": "markdown",
   "metadata": {},
   "source": [
    "f) Print out an example of the predicted probability. There is a method called .predict_proba() which can be used for estimating these values on the test set. This will be critical to understand for future questions. "
   ]
  },
  {
   "cell_type": "code",
   "execution_count": 16,
   "metadata": {},
   "outputs": [
    {
     "name": "stdout",
     "output_type": "stream",
     "text": [
      "Prediction Probability:  [0.513 0.167 0.195 0.125 0.000]\n",
      "Predicted Rating:  1.0\n"
     ]
    }
   ],
   "source": [
    "np.set_printoptions(formatter={'float': lambda x: \"{0:0.3f}\".format(x)})\n",
    "\n",
    "# Prediction Probabilities for 1st observation in train set\n",
    "print(\"Prediction Probability: \",logreg.predict_proba(X_test_scale)[3])\n",
    "\n",
    "print(\"Predicted Rating: \",logreg.predict(X_test_scale)[3])"
   ]
  },
  {
   "cell_type": "markdown",
   "metadata": {},
   "source": [
    "## Part 3: Model 2: PCA(n_components = 2) + Logistic Regression"
   ]
  },
  {
   "cell_type": "markdown",
   "metadata": {},
   "source": [
    "a) Pick up from step d in Problem 1 (use the same data that has been scaled): We will now transform the X_train & X_test data using PCA with 2 components. Hint: the PCA class in sklearn can be used similarly to how we have used StandardScaler class (fit_transform on train and transform on test). \n",
    "\n",
    "-Transform X_train and call it X_train_pca_2\n",
    "-Transform X_test and call it X_test_pca_2"
   ]
  },
  {
   "cell_type": "code",
   "execution_count": 17,
   "metadata": {},
   "outputs": [
    {
     "name": "stdout",
     "output_type": "stream",
     "text": [
      "Explained Variance Ratio by 2 components for X_train:  [0.231 0.150]\n",
      "Total Explained Variance 0.3819004682377767\n"
     ]
    }
   ],
   "source": [
    "from sklearn.decomposition import PCA\n",
    "\n",
    "pca = PCA(n_components=2)\n",
    "pca.fit(X_train_scale)\n",
    "\n",
    "print(\"Explained Variance Ratio by 2 components for X_train: \", pca.explained_variance_ratio_)\n",
    "print(\"Total Explained Variance\", pca.explained_variance_ratio_.sum())\n",
    "X_train_pca_2 = pca.transform(X_train_scale)\n",
    "X_test_pca_2 = pca.transform(X_test_scale)"
   ]
  },
  {
   "cell_type": "markdown",
   "metadata": {},
   "source": [
    "b) Then use the transformed data (X_train_pca_2) to fit a Logistic Regression model."
   ]
  },
  {
   "cell_type": "code",
   "execution_count": 18,
   "metadata": {},
   "outputs": [
    {
     "name": "stderr",
     "output_type": "stream",
     "text": [
      "C:\\Users\\akars\\Anaconda3\\lib\\site-packages\\sklearn\\linear_model\\logistic.py:433: FutureWarning: Default solver will be changed to 'lbfgs' in 0.22. Specify a solver to silence this warning.\n",
      "  FutureWarning)\n",
      "C:\\Users\\akars\\Anaconda3\\lib\\site-packages\\sklearn\\linear_model\\logistic.py:460: FutureWarning: Default multi_class will be changed to 'auto' in 0.22. Specify the multi_class option to silence this warning.\n",
      "  \"this warning.\", FutureWarning)\n"
     ]
    },
    {
     "data": {
      "text/plain": [
       "LogisticRegression(C=1.0, class_weight=None, dual=False, fit_intercept=True,\n",
       "          intercept_scaling=1, max_iter=100, multi_class='warn',\n",
       "          n_jobs=None, penalty='l2', random_state=None, solver='warn',\n",
       "          tol=0.0001, verbose=0, warm_start=False)"
      ]
     },
     "execution_count": 18,
     "metadata": {},
     "output_type": "execute_result"
    }
   ],
   "source": [
    "# Fit Logistic Model\n",
    "\n",
    "logreg_pca_2 = LogisticRegression()\n",
    "logreg_pca_2.fit(X_train_pca_2, y_train)"
   ]
  },
  {
   "cell_type": "code",
   "execution_count": 19,
   "metadata": {},
   "outputs": [
    {
     "data": {
      "text/plain": [
       "0.38050665521683125"
      ]
     },
     "execution_count": 19,
     "metadata": {},
     "output_type": "execute_result"
    }
   ],
   "source": [
    "# Calculate Score - Mean Accuracy\n",
    "logreg_pca_2.score(X_train_pca_2, y_train)"
   ]
  },
  {
   "cell_type": "markdown",
   "metadata": {},
   "source": [
    "c) Calculate the confusion matrix and classification report for the test data"
   ]
  },
  {
   "cell_type": "code",
   "execution_count": 20,
   "metadata": {},
   "outputs": [
    {
     "name": "stdout",
     "output_type": "stream",
     "text": [
      "Confusion Matrix\n",
      "\n",
      " [[123 173   1  11  39]\n",
      " [ 95 266   0  27 185]\n",
      " [ 42 171   0  32 220]\n",
      " [ 18 165   0  30 451]\n",
      " [ 10 110   0  31 712]]\n",
      "\n",
      "\n",
      "\n",
      "Classification Report\n",
      "\n",
      "               precision    recall  f1-score   support\n",
      "\n",
      "         1.0       0.43      0.35      0.39       347\n",
      "         2.0       0.30      0.46      0.36       573\n",
      "         3.0       0.00      0.00      0.00       465\n",
      "         4.0       0.23      0.05      0.08       664\n",
      "         5.0       0.44      0.83      0.58       863\n",
      "\n",
      "   micro avg       0.39      0.39      0.39      2912\n",
      "   macro avg       0.28      0.34      0.28      2912\n",
      "weighted avg       0.29      0.39      0.31      2912\n",
      "\n"
     ]
    }
   ],
   "source": [
    "y_pca2_pred = logreg_pca_2.predict(X_test_pca_2)\n",
    "\n",
    "# import the metrics class\n",
    "from sklearn import metrics\n",
    "\n",
    "#Confusion Matrix\n",
    "cnf_matrix = metrics.confusion_matrix(y_test, y_pca2_pred)\n",
    "print(\"Confusion Matrix\\n\\n\", cnf_matrix)\n",
    "\n",
    "print(\"\\n\\n\")\n",
    "#Classification Report\n",
    "cl_report = metrics.classification_report(y_test, y_pca2_pred)\n",
    "print(\"Classification Report\\n\\n\", cl_report)"
   ]
  },
  {
   "cell_type": "markdown",
   "metadata": {},
   "source": [
    "d) Calculate predictions for the training data & build the confusion matrix and classification report. Are there signs of overfitting? Why or why not?"
   ]
  },
  {
   "cell_type": "code",
   "execution_count": 21,
   "metadata": {},
   "outputs": [
    {
     "name": "stdout",
     "output_type": "stream",
     "text": [
      "Confusion Matrix\n",
      "\n",
      " [[ 538  645    2   52  115]\n",
      " [ 402  959    2  113  849]\n",
      " [ 162  757    1  114  894]\n",
      " [ 105  581    0  132 1836]\n",
      " [  36  423    1  125 2801]]\n",
      "\n",
      "\n",
      "\n",
      "Classification Report\n",
      "\n",
      "               precision    recall  f1-score   support\n",
      "\n",
      "         1.0       0.43      0.40      0.41      1352\n",
      "         2.0       0.28      0.41      0.34      2325\n",
      "         3.0       0.17      0.00      0.00      1928\n",
      "         4.0       0.25      0.05      0.08      2654\n",
      "         5.0       0.43      0.83      0.57      3386\n",
      "\n",
      "   micro avg       0.38      0.38      0.38     11645\n",
      "   macro avg       0.31      0.34      0.28     11645\n",
      "weighted avg       0.32      0.38      0.30     11645\n",
      "\n"
     ]
    }
   ],
   "source": [
    "y_pca2_tr_pred = logreg_pca_2.predict(X_train_pca_2)\n",
    "\n",
    "# import the metrics class\n",
    "from sklearn import metrics\n",
    "\n",
    "#Confusion Matrix\n",
    "cnf_matrix = metrics.confusion_matrix(y_train, y_pca2_tr_pred)\n",
    "print(\"Confusion Matrix\\n\\n\", cnf_matrix)\n",
    "\n",
    "print(\"\\n\\n\")\n",
    "#Classification Report\n",
    "cl_report = metrics.classification_report(y_train, y_pca2_tr_pred)\n",
    "print(\"Classification Report\\n\\n\", cl_report)"
   ]
  },
  {
   "cell_type": "markdown",
   "metadata": {},
   "source": [
    "There is no sign of overfitting. After comparing this to the classification report from the test dataset, there aren't significant differences in the accuracy for both models. Since we chose n=2 for this exercise (and I later found out below that 2 components cannot explain a lot of the total variance) the model did not show any sign of overfitting."
   ]
  },
  {
   "cell_type": "markdown",
   "metadata": {},
   "source": [
    "e) How well does this model perform relative to Model #1? Explain why there is a shift in performance. "
   ]
  },
  {
   "cell_type": "markdown",
   "metadata": {},
   "source": [
    "Model #1 performed better. The values from the classification report (espcially the f1 score) is higher for for model #1. This is primarily because there were some loss of information when I applied dimentionality reduction technique to the dataset (in this case I chose n=2)."
   ]
  },
  {
   "cell_type": "markdown",
   "metadata": {},
   "source": [
    "## Part 4: Model 3: PCA(n_components = 16) + Logistic Regression"
   ]
  },
  {
   "cell_type": "markdown",
   "metadata": {},
   "source": [
    "a) Pick up from step d in Problem 1 (use the same data that has been scaled): We will now transform the X_train & X_test data using PCA with 16 components. \n",
    "\n",
    "Transform X_train and call it X_train_pca_16\n",
    "Transform X_test and call it X_test_pca_16"
   ]
  },
  {
   "cell_type": "code",
   "execution_count": 22,
   "metadata": {},
   "outputs": [
    {
     "name": "stdout",
     "output_type": "stream",
     "text": [
      "Explained Variance Ratio by 2 components for X_train:  [0.231 0.150 0.120 0.098 0.070 0.046 0.039 0.036 0.034 0.030 0.027 0.026\n",
      " 0.023 0.022 0.019 0.016]\n",
      "Total Explained Variance 0.9865046809265148\n"
     ]
    }
   ],
   "source": [
    "from sklearn.decomposition import PCA\n",
    "\n",
    "pca = PCA(n_components=16)\n",
    "pca.fit(X_train_scale)\n",
    "\n",
    "print(\"Explained Variance Ratio by 2 components for X_train: \", pca.explained_variance_ratio_)\n",
    "print(\"Total Explained Variance\", pca.explained_variance_ratio_.sum())\n",
    "X_train_pca_16 = pca.transform(X_train_scale)\n",
    "X_test_pca_16 = pca.transform(X_test_scale)"
   ]
  },
  {
   "cell_type": "markdown",
   "metadata": {},
   "source": [
    "b) Then use the transformed data (X_train_pca_16) to fit a Logistic Regression model."
   ]
  },
  {
   "cell_type": "code",
   "execution_count": 23,
   "metadata": {},
   "outputs": [
    {
     "name": "stderr",
     "output_type": "stream",
     "text": [
      "C:\\Users\\akars\\Anaconda3\\lib\\site-packages\\sklearn\\linear_model\\logistic.py:433: FutureWarning: Default solver will be changed to 'lbfgs' in 0.22. Specify a solver to silence this warning.\n",
      "  FutureWarning)\n",
      "C:\\Users\\akars\\Anaconda3\\lib\\site-packages\\sklearn\\linear_model\\logistic.py:460: FutureWarning: Default multi_class will be changed to 'auto' in 0.22. Specify the multi_class option to silence this warning.\n",
      "  \"this warning.\", FutureWarning)\n"
     ]
    },
    {
     "data": {
      "text/plain": [
       "LogisticRegression(C=1.0, class_weight=None, dual=False, fit_intercept=True,\n",
       "          intercept_scaling=1, max_iter=100, multi_class='warn',\n",
       "          n_jobs=None, penalty='l2', random_state=None, solver='warn',\n",
       "          tol=0.0001, verbose=0, warm_start=False)"
      ]
     },
     "execution_count": 23,
     "metadata": {},
     "output_type": "execute_result"
    }
   ],
   "source": [
    "# Fit Logistic Model\n",
    "\n",
    "logreg_pca_16 = LogisticRegression()\n",
    "logreg_pca_16.fit(X_train_pca_16, y_train)"
   ]
  },
  {
   "cell_type": "code",
   "execution_count": 24,
   "metadata": {},
   "outputs": [
    {
     "data": {
      "text/plain": [
       "0.6925719192786604"
      ]
     },
     "execution_count": 24,
     "metadata": {},
     "output_type": "execute_result"
    }
   ],
   "source": [
    "# Calculate Score - Mean Accuracy\n",
    "logreg_pca_16.score(X_train_pca_16, y_train)"
   ]
  },
  {
   "cell_type": "markdown",
   "metadata": {},
   "source": [
    "c) Calculate the confusion matrix and classification report for the test data"
   ]
  },
  {
   "cell_type": "code",
   "execution_count": 25,
   "metadata": {
    "scrolled": true
   },
   "outputs": [
    {
     "name": "stdout",
     "output_type": "stream",
     "text": [
      "Confusion Matrix\n",
      "\n",
      " [[264  83   0   0   0]\n",
      " [ 68 436  65   4   0]\n",
      " [  0 198  67 200   0]\n",
      " [  0  99   4 441 120]\n",
      " [  0   0   0  22 841]]\n",
      "\n",
      "\n",
      "\n",
      "Classification Report\n",
      "\n",
      "               precision    recall  f1-score   support\n",
      "\n",
      "         1.0       0.80      0.76      0.78       347\n",
      "         2.0       0.53      0.76      0.63       573\n",
      "         3.0       0.49      0.14      0.22       465\n",
      "         4.0       0.66      0.66      0.66       664\n",
      "         5.0       0.88      0.97      0.92       863\n",
      "\n",
      "   micro avg       0.70      0.70      0.70      2912\n",
      "   macro avg       0.67      0.66      0.64      2912\n",
      "weighted avg       0.69      0.70      0.68      2912\n",
      "\n"
     ]
    }
   ],
   "source": [
    "y_pca16_pred = logreg_pca_16.predict(X_test_pca_16)\n",
    "\n",
    "# import the metrics class\n",
    "from sklearn import metrics\n",
    "\n",
    "#Confusion Matrix\n",
    "cnf_matrix = metrics.confusion_matrix(y_test, y_pca16_pred)\n",
    "print(\"Confusion Matrix\\n\\n\", cnf_matrix)\n",
    "\n",
    "print(\"\\n\\n\")\n",
    "#Classification Report\n",
    "cl_report = metrics.classification_report(y_test, y_pca16_pred)\n",
    "print(\"Classification Report\\n\\n\", cl_report)"
   ]
  },
  {
   "cell_type": "markdown",
   "metadata": {},
   "source": [
    "d) Calculate predictions for the training data & build the confusion matrix and classification report. Are there signs of overfitting? Why or why not?"
   ]
  },
  {
   "cell_type": "code",
   "execution_count": 26,
   "metadata": {},
   "outputs": [
    {
     "name": "stdout",
     "output_type": "stream",
     "text": [
      "Confusion Matrix\n",
      "\n",
      " [[1045  307    0    0    0]\n",
      " [ 247 1702  336   40    0]\n",
      " [   0  779  267  882    0]\n",
      " [   0  417    5 1746  486]\n",
      " [   0    0    0   81 3305]]\n",
      "\n",
      "\n",
      "\n",
      "Classification Report\n",
      "\n",
      "               precision    recall  f1-score   support\n",
      "\n",
      "         1.0       0.81      0.77      0.79      1352\n",
      "         2.0       0.53      0.73      0.62      2325\n",
      "         3.0       0.44      0.14      0.21      1928\n",
      "         4.0       0.64      0.66      0.65      2654\n",
      "         5.0       0.87      0.98      0.92      3386\n",
      "\n",
      "   micro avg       0.69      0.69      0.69     11645\n",
      "   macro avg       0.66      0.66      0.64     11645\n",
      "weighted avg       0.67      0.69      0.66     11645\n",
      "\n"
     ]
    }
   ],
   "source": [
    "y_pca16_tr_pred = logreg_pca_16.predict(X_train_pca_16)\n",
    "\n",
    "# import the metrics class\n",
    "from sklearn import metrics\n",
    "\n",
    "#Confusion Matrix\n",
    "cnf_matrix = metrics.confusion_matrix(y_train, y_pca16_tr_pred)\n",
    "print(\"Confusion Matrix\\n\\n\", cnf_matrix)\n",
    "\n",
    "print(\"\\n\\n\")\n",
    "#Classification Report\n",
    "cl_report = metrics.classification_report(y_train, y_pca16_tr_pred)\n",
    "print(\"Classification Report\\n\\n\", cl_report)"
   ]
  },
  {
   "cell_type": "markdown",
   "metadata": {},
   "source": [
    "Yes, there is clear sign of overfititing. The model performed better on the training dataset. Meaning it didn't do a good job in generalizing."
   ]
  },
  {
   "cell_type": "markdown",
   "metadata": {},
   "source": [
    "## Part 5: Conceptual Questions "
   ]
  },
  {
   "cell_type": "markdown",
   "metadata": {},
   "source": [
    "a) In order to better understand what is happening in Model 2 & Model 3, rerun PCA without specifying a number of components. Plot out the cumulative explained variance ratio vs number of components for the original scaled data. Describe what the plot is showing as well as what the cumulative explained variance tells us about our data."
   ]
  },
  {
   "cell_type": "code",
   "execution_count": 27,
   "metadata": {},
   "outputs": [
    {
     "data": {
      "image/png": "[encoded data removed]",
      "text/plain": [
       "<Figure size 432x288 with 1 Axes>"
      ]
     },
     "metadata": {
      "needs_background": "light"
     },
     "output_type": "display_data"
    }
   ],
   "source": [
    "#Plotting the Cumulative Summation of the Explained Variance\n",
    "from sklearn.decomposition import PCA\n",
    "pca_test = PCA()\n",
    "\n",
    "pca_test.fit(X_train_scale)\n",
    "plt.figure()\n",
    "plt.plot(np.cumsum(pca_test.explained_variance_ratio_))\n",
    "plt.xlabel('Number of Components')\n",
    "plt.ylabel('Variance (%)') #for each component\n",
    "plt.title('Pulsar Dataset Explained Variance')\n",
    "plt.show()"
   ]
  },
  {
   "cell_type": "markdown",
   "metadata": {},
   "source": [
    "As can be seen from the above explained variance vs no_of_components plot, we need ~16 components to explain 98% of the variance in the data. We are only able toe xplain about 35% of the variance by including just 2 components.\n",
    "\n",
    "While performing dimension reduction using PCA, we choose the no. of components that at least explains 95% of the variance in the dataset. The fraction of variance explained by a principal component is the ratio between the variance of that principal component and the total variance. Hence, the plot above shows cumulative sum of explained variance ratios."
   ]
  },
  {
   "cell_type": "markdown",
   "metadata": {},
   "source": [
    "b) Between Model 2 and Model 3, which performed the best? Explain why this is."
   ]
  },
  {
   "cell_type": "markdown",
   "metadata": {},
   "source": [
    "Model 3 performed far better as compared to Model 2 for the following reasons:\n",
    "\n",
    "1. The metrics Precison, Recall and f1-score measures the accuracy of the model prediction and all these metrics are significantly higher for Model 3 as compared to Model 2.\n",
    "\n",
    "2. The score of the models calculates the difference between actual and predicted response as an accuracy measure. The score for Model 3: 69% is significantly higher as compared to the score of Model 2: 38% "
   ]
  },
  {
   "cell_type": "markdown",
   "metadata": {},
   "source": [
    "c) Assuming you are working with a company on a modeling project with a massive data set, what would be some of the benefits of utilizing PCA? "
   ]
  },
  {
   "cell_type": "markdown",
   "metadata": {},
   "source": [
    "When reducing the dimensions of data, it’s important not to lose more information than is necessary. The variation in a data set can be seen as representing the information that we would like to keep. Principal Component Analysis (PCA) is a well-established mathematical technique for reducing the dimensionality of data, while keeping as much variation as possible.\n",
    "\n",
    "PCA achieves dimension reduction by creating new, artificial variables called principal components. Each principal component is a linear combination of the observed variables. PCA is in particular very useful while analyzing large datasets because:\n",
    "\n",
    "1. Reduce No. of Features & Improve Model Performace - PCA will help us reduce the no. of predictors in our model and hence free up a lot of degree of freedoms while explaining high variance in the original data. PCA is a very common way to speed up your Machine Learning algorithm by getting rid of correlated variables which don't contribute in any decision making. The training time of the algorithms reduces significantly with less number of features.\n",
    "\n",
    "2. Removes Correlated Features - PCA removes the correlation between the features in your model. After implementing the PCA on your dataset, all the Principal Components are independent of one another. There is no correlation among them and this improves our model by removing multicollinearity \n",
    "\n",
    "3. Reduces Overfitting: Overfitting mainly occurs when there are too many variables in the dataset. So, PCA helps in overcoming the overfitting issue by reducing the number of features.\n",
    "\n",
    "4. Improves Visualization: It is very hard to visualize and understand the data in high dimensions. PCA transforms a high dimensional data to low dimensional data (2 dimension) so that it can be visualized easily. We can use 2D Scree Plot to see which Principal Components result in high variance and have more impact as compared to other Principal Components."
   ]
  },
  {
   "cell_type": "markdown",
   "metadata": {},
   "source": [
    "d) Now argue the opposite of question 3 - what is a negative result of utilizing this  dimensionality reduction technique? "
   ]
  },
  {
   "cell_type": "markdown",
   "metadata": {},
   "source": [
    "Here are some of the disadvantages of applying PCA:\n",
    "\n",
    "1. Independent variables become less interpretable - After implementing PCA on the dataset, your original features will turn into Principal Components. Principal Components are the linear combination of your original features. Principal Components are not as readable and interpretable as original features.\n",
    "\n",
    "2. Information Loss - Although Principal Components try to cover maximum variance among the features in a dataset, if we don't select the number of Principal Components with care, it may miss some information as compared to the original list of features.\n",
    "\n",
    "3. Data standardization is must before PCA - You must standardize your data before implementing PCA, otherwise PCA will not be able to find the optimal Principal Components. For instance, if a feature set has data expressed in units of Kilograms, Light years, or Millions, the variance scale is huge in the training set. If PCA is applied on such a feature set, the resultant loadings for features with high variance will also be large. Hence, principal components will be biased towards features with high variance, leading to false results. Also, for standardization, all the categorical features are required to be converted into numerical features before PCA can be applied.\n"
   ]
  },
  {
   "cell_type": "markdown",
   "metadata": {},
   "source": [
    "e) sklearn offers a variety of methods to solve a multiclass logistic regression problem. One option is the \"one-vs-the-rest\" (also known as \"one-vs-all\" method). Explain in detail what this process does."
   ]
  },
  {
   "cell_type": "markdown",
   "metadata": {},
   "source": [
    "One-vs-all strategy works by fitting one classifier per class, with the samples of that class as positive samples and all other samples as negatives. This strategy requires the base classifiers to produce a real-valued confidence score for its decision, rather than just a class label; discrete class labels alone can lead to ambiguities, where multiple classes are predicted for a single sample. For each classifier, the class is fitted against all the other classes. In addition to its computational efficiency, one advantage of this approach is its interpretability. Since each class is represented by one and one classifier only, it is possible to gain knowledge about the class by inspecting its corresponding classifier. It is the most commonly used strategy for multiclass classification. This strategy can also be used for multilabel learning and it is also known as the binary relevance method."
   ]
  },
  {
   "cell_type": "markdown",
   "metadata": {},
   "source": [
    "f) Each of the three models utilized logistic regression. The Hands-On ML book describes the logistic function (sometimes called the sigmoid function) in detail. Using Equation 4-14, plot out the logistic function & describe why it is useful in classification problems of the nature covered in this homework assignment."
   ]
  },
  {
   "cell_type": "code",
   "execution_count": 28,
   "metadata": {
    "scrolled": true
   },
   "outputs": [
    {
     "data": {
      "image/png": "[encoded data removed]",
      "text/plain": [
       "<Figure size 648x216 with 1 Axes>"
      ]
     },
     "metadata": {
      "needs_background": "light"
     },
     "output_type": "display_data"
    }
   ],
   "source": [
    "t = np.linspace(-10, 10, 100)\n",
    "sig = 1 / (1 + np.exp(-t))\n",
    "plt.figure(figsize=(9, 3))\n",
    "plt.plot([-10, 10], [0, 0], \"k-\")\n",
    "plt.plot([-10, 10], [0.5, 0.5], \"k:\")\n",
    "plt.plot([-10, 10], [1, 1], \"k:\")\n",
    "plt.plot([0, 0], [-1.1, 1.1], \"k-\")\n",
    "plt.plot(t, sig, \"b-\", linewidth=2, label=r\"$\\sigma(t) = \\frac{1}{1 + e^{-t}}$\")\n",
    "plt.xlabel(\"t\")\n",
    "plt.legend(loc=\"upper left\", fontsize=20)\n",
    "plt.axis([-10, 10, -0.1, 1.1])\n",
    "plt.show()"
   ]
  },
  {
   "cell_type": "markdown",
   "metadata": {},
   "source": [
    "A Logistic Regression model computes a weighted sum of the input features, but instead of outputting the result directly like the Linear Regression model does, it outputs the logistic of this result. The logistic is a sigmoid function that outputs a number between 0 and 1. The sigmoid function outputs the conditional probabilities of the prediction, the class probabilities, so it is useful in classification problems. But again, there are some disadvantages because the output can suffer from symmetric bias."
   ]
  }
 ],
 "metadata": {
  "kernelspec": {
   "display_name": "Python 3",
   "language": "python",
   "name": "python3"
  },
  "language_info": {
   "codemirror_mode": {
    "name": "ipython",
    "version": 3
   },
   "file_extension": ".py",
   "mimetype": "text/x-python",
   "name": "python",
   "nbconvert_exporter": "python",
   "pygments_lexer": "ipython3",
   "version": "3.7.3"
  }
 },
 "nbformat": 4,
 "nbformat_minor": 2
}
