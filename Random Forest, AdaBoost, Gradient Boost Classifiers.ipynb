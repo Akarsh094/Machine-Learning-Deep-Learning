{
 "cells": [
  {
   "cell_type": "markdown",
   "metadata": {},
   "source": [
    "# Assignment 5\n",
    "# Akarsh Sahu\n",
    "# 10-30-2019"
   ]
  },
  {
   "cell_type": "markdown",
   "metadata": {},
   "source": [
    "## 1. Data Processing"
   ]
  },
  {
   "cell_type": "markdown",
   "metadata": {},
   "source": [
    "#### a) Import the data from the website directly: https://archive.ics.uci.edu/ml/machine-learning-databases/adult/adult.data"
   ]
  },
  {
   "cell_type": "code",
   "execution_count": 80,
   "metadata": {},
   "outputs": [],
   "source": [
    "import pandas as pd\n",
    "import numpy as np"
   ]
  },
  {
   "cell_type": "code",
   "execution_count": 16,
   "metadata": {},
   "outputs": [],
   "source": [
    "adult_df = pd.read_csv('https://archive.ics.uci.edu/ml/machine-learning-databases/adult/adult.data', header = None, skipinitialspace=True)"
   ]
  },
  {
   "cell_type": "code",
   "execution_count": 17,
   "metadata": {},
   "outputs": [
    {
     "data": {
      "text/html": [
       "<div>\n",
       "<style scoped>\n",
       "    .dataframe tbody tr th:only-of-type {\n",
       "        vertical-align: middle;\n",
       "    }\n",
       "\n",
       "    .dataframe tbody tr th {\n",
       "        vertical-align: top;\n",
       "    }\n",
       "\n",
       "    .dataframe thead th {\n",
       "        text-align: right;\n",
       "    }\n",
       "</style>\n",
       "<table border=\"1\" class=\"dataframe\">\n",
       "  <thead>\n",
       "    <tr style=\"text-align: right;\">\n",
       "      <th></th>\n",
       "      <th>0</th>\n",
       "      <th>1</th>\n",
       "      <th>2</th>\n",
       "      <th>3</th>\n",
       "      <th>4</th>\n",
       "      <th>5</th>\n",
       "      <th>6</th>\n",
       "      <th>7</th>\n",
       "      <th>8</th>\n",
       "      <th>9</th>\n",
       "      <th>10</th>\n",
       "      <th>11</th>\n",
       "      <th>12</th>\n",
       "      <th>13</th>\n",
       "      <th>14</th>\n",
       "    </tr>\n",
       "  </thead>\n",
       "  <tbody>\n",
       "    <tr>\n",
       "      <th>0</th>\n",
       "      <td>39</td>\n",
       "      <td>State-gov</td>\n",
       "      <td>77516</td>\n",
       "      <td>Bachelors</td>\n",
       "      <td>13</td>\n",
       "      <td>Never-married</td>\n",
       "      <td>Adm-clerical</td>\n",
       "      <td>Not-in-family</td>\n",
       "      <td>White</td>\n",
       "      <td>Male</td>\n",
       "      <td>2174</td>\n",
       "      <td>0</td>\n",
       "      <td>40</td>\n",
       "      <td>United-States</td>\n",
       "      <td>&lt;=50K</td>\n",
       "    </tr>\n",
       "    <tr>\n",
       "      <th>1</th>\n",
       "      <td>50</td>\n",
       "      <td>Self-emp-not-inc</td>\n",
       "      <td>83311</td>\n",
       "      <td>Bachelors</td>\n",
       "      <td>13</td>\n",
       "      <td>Married-civ-spouse</td>\n",
       "      <td>Exec-managerial</td>\n",
       "      <td>Husband</td>\n",
       "      <td>White</td>\n",
       "      <td>Male</td>\n",
       "      <td>0</td>\n",
       "      <td>0</td>\n",
       "      <td>13</td>\n",
       "      <td>United-States</td>\n",
       "      <td>&lt;=50K</td>\n",
       "    </tr>\n",
       "    <tr>\n",
       "      <th>2</th>\n",
       "      <td>38</td>\n",
       "      <td>Private</td>\n",
       "      <td>215646</td>\n",
       "      <td>HS-grad</td>\n",
       "      <td>9</td>\n",
       "      <td>Divorced</td>\n",
       "      <td>Handlers-cleaners</td>\n",
       "      <td>Not-in-family</td>\n",
       "      <td>White</td>\n",
       "      <td>Male</td>\n",
       "      <td>0</td>\n",
       "      <td>0</td>\n",
       "      <td>40</td>\n",
       "      <td>United-States</td>\n",
       "      <td>&lt;=50K</td>\n",
       "    </tr>\n",
       "    <tr>\n",
       "      <th>3</th>\n",
       "      <td>53</td>\n",
       "      <td>Private</td>\n",
       "      <td>234721</td>\n",
       "      <td>11th</td>\n",
       "      <td>7</td>\n",
       "      <td>Married-civ-spouse</td>\n",
       "      <td>Handlers-cleaners</td>\n",
       "      <td>Husband</td>\n",
       "      <td>Black</td>\n",
       "      <td>Male</td>\n",
       "      <td>0</td>\n",
       "      <td>0</td>\n",
       "      <td>40</td>\n",
       "      <td>United-States</td>\n",
       "      <td>&lt;=50K</td>\n",
       "    </tr>\n",
       "    <tr>\n",
       "      <th>4</th>\n",
       "      <td>28</td>\n",
       "      <td>Private</td>\n",
       "      <td>338409</td>\n",
       "      <td>Bachelors</td>\n",
       "      <td>13</td>\n",
       "      <td>Married-civ-spouse</td>\n",
       "      <td>Prof-specialty</td>\n",
       "      <td>Wife</td>\n",
       "      <td>Black</td>\n",
       "      <td>Female</td>\n",
       "      <td>0</td>\n",
       "      <td>0</td>\n",
       "      <td>40</td>\n",
       "      <td>Cuba</td>\n",
       "      <td>&lt;=50K</td>\n",
       "    </tr>\n",
       "  </tbody>\n",
       "</table>\n",
       "</div>"
      ],
      "text/plain": [
       "   0                 1       2          3   4                   5   \\\n",
       "0  39         State-gov   77516  Bachelors  13       Never-married   \n",
       "1  50  Self-emp-not-inc   83311  Bachelors  13  Married-civ-spouse   \n",
       "2  38           Private  215646    HS-grad   9            Divorced   \n",
       "3  53           Private  234721       11th   7  Married-civ-spouse   \n",
       "4  28           Private  338409  Bachelors  13  Married-civ-spouse   \n",
       "\n",
       "                  6              7      8       9     10  11  12  \\\n",
       "0       Adm-clerical  Not-in-family  White    Male  2174   0  40   \n",
       "1    Exec-managerial        Husband  White    Male     0   0  13   \n",
       "2  Handlers-cleaners  Not-in-family  White    Male     0   0  40   \n",
       "3  Handlers-cleaners        Husband  Black    Male     0   0  40   \n",
       "4     Prof-specialty           Wife  Black  Female     0   0  40   \n",
       "\n",
       "              13     14  \n",
       "0  United-States  <=50K  \n",
       "1  United-States  <=50K  \n",
       "2  United-States  <=50K  \n",
       "3  United-States  <=50K  \n",
       "4           Cuba  <=50K  "
      ]
     },
     "execution_count": 17,
     "metadata": {},
     "output_type": "execute_result"
    }
   ],
   "source": [
    "adult_df.head()"
   ]
  },
  {
   "cell_type": "markdown",
   "metadata": {},
   "source": [
    "#### b) There is no header included, but information on column names is here: https://archive.ics.uci.edu/ml/machine-learning-databases/adult/adult.names (Links to an external site.)\n",
    "\n",
    "Scroll to the bottom of that link to see the explanation of the columns. You need to build the column names for your dataframe. It is highly encouraged to not include spaces in column names. Finally, call your target variable (the last column of \">50K\" or \"<=50k\") \"salary\".\n",
    "\n",
    "An easy way to do this is to build a list of column names, and pass those into the .columns() attribute."
   ]
  },
  {
   "cell_type": "code",
   "execution_count": 18,
   "metadata": {},
   "outputs": [],
   "source": [
    "list_of_columns = ['age', 'workclass', 'fnlwgt', 'education', 'education-num', 'marital-status', 'occupation', 'relationship', 'race', 'sex', 'capital_gain', 'capital_loss', 'hours_per_week', 'native_country', 'salary']\n",
    "adult_df.columns = list_of_columns"
   ]
  },
  {
   "cell_type": "markdown",
   "metadata": {},
   "source": [
    "#### c) Check your dataframe shape to verify that you have the correct # of rows and columns. Run the following command:\n",
    "\n",
    "You should get a shape of: (32561, 15)"
   ]
  },
  {
   "cell_type": "code",
   "execution_count": 19,
   "metadata": {},
   "outputs": [
    {
     "data": {
      "text/plain": [
       "(32561, 15)"
      ]
     },
     "execution_count": 19,
     "metadata": {},
     "output_type": "execute_result"
    }
   ],
   "source": [
    "adult_df.shape"
   ]
  },
  {
   "cell_type": "markdown",
   "metadata": {},
   "source": [
    "#### d) Drop the 3rd column from the data (it is referred to as \"fnlwgt\" on UCI's website and is not necessary in this homework)\n",
    "\n",
    "e) Note: There are random values of  '?' that show up in the data - this is fine! These just refer to \"unknown\" and can be left as is. This data has no true NA values, so no need to check."
   ]
  },
  {
   "cell_type": "code",
   "execution_count": 20,
   "metadata": {
    "scrolled": true
   },
   "outputs": [
    {
     "data": {
      "text/html": [
       "<div>\n",
       "<style scoped>\n",
       "    .dataframe tbody tr th:only-of-type {\n",
       "        vertical-align: middle;\n",
       "    }\n",
       "\n",
       "    .dataframe tbody tr th {\n",
       "        vertical-align: top;\n",
       "    }\n",
       "\n",
       "    .dataframe thead th {\n",
       "        text-align: right;\n",
       "    }\n",
       "</style>\n",
       "<table border=\"1\" class=\"dataframe\">\n",
       "  <thead>\n",
       "    <tr style=\"text-align: right;\">\n",
       "      <th></th>\n",
       "      <th>age</th>\n",
       "      <th>workclass</th>\n",
       "      <th>education</th>\n",
       "      <th>education-num</th>\n",
       "      <th>marital-status</th>\n",
       "      <th>occupation</th>\n",
       "      <th>relationship</th>\n",
       "      <th>race</th>\n",
       "      <th>sex</th>\n",
       "      <th>capital_gain</th>\n",
       "      <th>capital_loss</th>\n",
       "      <th>hours_per_week</th>\n",
       "      <th>native_country</th>\n",
       "      <th>salary</th>\n",
       "    </tr>\n",
       "  </thead>\n",
       "  <tbody>\n",
       "    <tr>\n",
       "      <th>0</th>\n",
       "      <td>39</td>\n",
       "      <td>State-gov</td>\n",
       "      <td>Bachelors</td>\n",
       "      <td>13</td>\n",
       "      <td>Never-married</td>\n",
       "      <td>Adm-clerical</td>\n",
       "      <td>Not-in-family</td>\n",
       "      <td>White</td>\n",
       "      <td>Male</td>\n",
       "      <td>2174</td>\n",
       "      <td>0</td>\n",
       "      <td>40</td>\n",
       "      <td>United-States</td>\n",
       "      <td>&lt;=50K</td>\n",
       "    </tr>\n",
       "    <tr>\n",
       "      <th>1</th>\n",
       "      <td>50</td>\n",
       "      <td>Self-emp-not-inc</td>\n",
       "      <td>Bachelors</td>\n",
       "      <td>13</td>\n",
       "      <td>Married-civ-spouse</td>\n",
       "      <td>Exec-managerial</td>\n",
       "      <td>Husband</td>\n",
       "      <td>White</td>\n",
       "      <td>Male</td>\n",
       "      <td>0</td>\n",
       "      <td>0</td>\n",
       "      <td>13</td>\n",
       "      <td>United-States</td>\n",
       "      <td>&lt;=50K</td>\n",
       "    </tr>\n",
       "    <tr>\n",
       "      <th>2</th>\n",
       "      <td>38</td>\n",
       "      <td>Private</td>\n",
       "      <td>HS-grad</td>\n",
       "      <td>9</td>\n",
       "      <td>Divorced</td>\n",
       "      <td>Handlers-cleaners</td>\n",
       "      <td>Not-in-family</td>\n",
       "      <td>White</td>\n",
       "      <td>Male</td>\n",
       "      <td>0</td>\n",
       "      <td>0</td>\n",
       "      <td>40</td>\n",
       "      <td>United-States</td>\n",
       "      <td>&lt;=50K</td>\n",
       "    </tr>\n",
       "    <tr>\n",
       "      <th>3</th>\n",
       "      <td>53</td>\n",
       "      <td>Private</td>\n",
       "      <td>11th</td>\n",
       "      <td>7</td>\n",
       "      <td>Married-civ-spouse</td>\n",
       "      <td>Handlers-cleaners</td>\n",
       "      <td>Husband</td>\n",
       "      <td>Black</td>\n",
       "      <td>Male</td>\n",
       "      <td>0</td>\n",
       "      <td>0</td>\n",
       "      <td>40</td>\n",
       "      <td>United-States</td>\n",
       "      <td>&lt;=50K</td>\n",
       "    </tr>\n",
       "    <tr>\n",
       "      <th>4</th>\n",
       "      <td>28</td>\n",
       "      <td>Private</td>\n",
       "      <td>Bachelors</td>\n",
       "      <td>13</td>\n",
       "      <td>Married-civ-spouse</td>\n",
       "      <td>Prof-specialty</td>\n",
       "      <td>Wife</td>\n",
       "      <td>Black</td>\n",
       "      <td>Female</td>\n",
       "      <td>0</td>\n",
       "      <td>0</td>\n",
       "      <td>40</td>\n",
       "      <td>Cuba</td>\n",
       "      <td>&lt;=50K</td>\n",
       "    </tr>\n",
       "  </tbody>\n",
       "</table>\n",
       "</div>"
      ],
      "text/plain": [
       "   age         workclass  education  education-num      marital-status  \\\n",
       "0   39         State-gov  Bachelors             13       Never-married   \n",
       "1   50  Self-emp-not-inc  Bachelors             13  Married-civ-spouse   \n",
       "2   38           Private    HS-grad              9            Divorced   \n",
       "3   53           Private       11th              7  Married-civ-spouse   \n",
       "4   28           Private  Bachelors             13  Married-civ-spouse   \n",
       "\n",
       "          occupation   relationship   race     sex  capital_gain  \\\n",
       "0       Adm-clerical  Not-in-family  White    Male          2174   \n",
       "1    Exec-managerial        Husband  White    Male             0   \n",
       "2  Handlers-cleaners  Not-in-family  White    Male             0   \n",
       "3  Handlers-cleaners        Husband  Black    Male             0   \n",
       "4     Prof-specialty           Wife  Black  Female             0   \n",
       "\n",
       "   capital_loss  hours_per_week native_country salary  \n",
       "0             0              40  United-States  <=50K  \n",
       "1             0              13  United-States  <=50K  \n",
       "2             0              40  United-States  <=50K  \n",
       "3             0              40  United-States  <=50K  \n",
       "4             0              40           Cuba  <=50K  "
      ]
     },
     "execution_count": 20,
     "metadata": {},
     "output_type": "execute_result"
    }
   ],
   "source": [
    "adult_df = adult_df.drop(columns = ['fnlwgt'], axis = 1)\n",
    "adult_df.head()"
   ]
  },
  {
   "cell_type": "markdown",
   "metadata": {},
   "source": [
    "#### f) Use the .replace() method to make the following changes to the \"salary\" column:\n",
    "\n",
    "1. \"<=50K\" should become 0\n",
    "2. \">50K\" should become 1"
   ]
  },
  {
   "cell_type": "code",
   "execution_count": 21,
   "metadata": {},
   "outputs": [
    {
     "data": {
      "text/plain": [
       "array([0, 1], dtype=int64)"
      ]
     },
     "execution_count": 21,
     "metadata": {},
     "output_type": "execute_result"
    }
   ],
   "source": [
    "adult_df.salary = adult_df.salary.replace('<=50K', 0)\n",
    "adult_df.salary = adult_df.salary.replace('>50K', 1)\n",
    "adult_df.salary.unique()"
   ]
  },
  {
   "cell_type": "markdown",
   "metadata": {},
   "source": [
    "#### g) Create your X dataframe (just your predictors). It should include every feature except for the target variable which is \"salary\".\n",
    "#### h) Create your y dataframe (just your target variable). It should only be \"salary\"."
   ]
  },
  {
   "cell_type": "code",
   "execution_count": 22,
   "metadata": {},
   "outputs": [
    {
     "data": {
      "text/html": [
       "<div>\n",
       "<style scoped>\n",
       "    .dataframe tbody tr th:only-of-type {\n",
       "        vertical-align: middle;\n",
       "    }\n",
       "\n",
       "    .dataframe tbody tr th {\n",
       "        vertical-align: top;\n",
       "    }\n",
       "\n",
       "    .dataframe thead th {\n",
       "        text-align: right;\n",
       "    }\n",
       "</style>\n",
       "<table border=\"1\" class=\"dataframe\">\n",
       "  <thead>\n",
       "    <tr style=\"text-align: right;\">\n",
       "      <th></th>\n",
       "      <th>age</th>\n",
       "      <th>workclass</th>\n",
       "      <th>education</th>\n",
       "      <th>education-num</th>\n",
       "      <th>marital-status</th>\n",
       "      <th>occupation</th>\n",
       "      <th>relationship</th>\n",
       "      <th>race</th>\n",
       "      <th>sex</th>\n",
       "      <th>capital_gain</th>\n",
       "      <th>capital_loss</th>\n",
       "      <th>hours_per_week</th>\n",
       "      <th>native_country</th>\n",
       "    </tr>\n",
       "  </thead>\n",
       "  <tbody>\n",
       "    <tr>\n",
       "      <th>0</th>\n",
       "      <td>39</td>\n",
       "      <td>State-gov</td>\n",
       "      <td>Bachelors</td>\n",
       "      <td>13</td>\n",
       "      <td>Never-married</td>\n",
       "      <td>Adm-clerical</td>\n",
       "      <td>Not-in-family</td>\n",
       "      <td>White</td>\n",
       "      <td>Male</td>\n",
       "      <td>2174</td>\n",
       "      <td>0</td>\n",
       "      <td>40</td>\n",
       "      <td>United-States</td>\n",
       "    </tr>\n",
       "    <tr>\n",
       "      <th>1</th>\n",
       "      <td>50</td>\n",
       "      <td>Self-emp-not-inc</td>\n",
       "      <td>Bachelors</td>\n",
       "      <td>13</td>\n",
       "      <td>Married-civ-spouse</td>\n",
       "      <td>Exec-managerial</td>\n",
       "      <td>Husband</td>\n",
       "      <td>White</td>\n",
       "      <td>Male</td>\n",
       "      <td>0</td>\n",
       "      <td>0</td>\n",
       "      <td>13</td>\n",
       "      <td>United-States</td>\n",
       "    </tr>\n",
       "    <tr>\n",
       "      <th>2</th>\n",
       "      <td>38</td>\n",
       "      <td>Private</td>\n",
       "      <td>HS-grad</td>\n",
       "      <td>9</td>\n",
       "      <td>Divorced</td>\n",
       "      <td>Handlers-cleaners</td>\n",
       "      <td>Not-in-family</td>\n",
       "      <td>White</td>\n",
       "      <td>Male</td>\n",
       "      <td>0</td>\n",
       "      <td>0</td>\n",
       "      <td>40</td>\n",
       "      <td>United-States</td>\n",
       "    </tr>\n",
       "    <tr>\n",
       "      <th>3</th>\n",
       "      <td>53</td>\n",
       "      <td>Private</td>\n",
       "      <td>11th</td>\n",
       "      <td>7</td>\n",
       "      <td>Married-civ-spouse</td>\n",
       "      <td>Handlers-cleaners</td>\n",
       "      <td>Husband</td>\n",
       "      <td>Black</td>\n",
       "      <td>Male</td>\n",
       "      <td>0</td>\n",
       "      <td>0</td>\n",
       "      <td>40</td>\n",
       "      <td>United-States</td>\n",
       "    </tr>\n",
       "    <tr>\n",
       "      <th>4</th>\n",
       "      <td>28</td>\n",
       "      <td>Private</td>\n",
       "      <td>Bachelors</td>\n",
       "      <td>13</td>\n",
       "      <td>Married-civ-spouse</td>\n",
       "      <td>Prof-specialty</td>\n",
       "      <td>Wife</td>\n",
       "      <td>Black</td>\n",
       "      <td>Female</td>\n",
       "      <td>0</td>\n",
       "      <td>0</td>\n",
       "      <td>40</td>\n",
       "      <td>Cuba</td>\n",
       "    </tr>\n",
       "  </tbody>\n",
       "</table>\n",
       "</div>"
      ],
      "text/plain": [
       "   age         workclass  education  education-num      marital-status  \\\n",
       "0   39         State-gov  Bachelors             13       Never-married   \n",
       "1   50  Self-emp-not-inc  Bachelors             13  Married-civ-spouse   \n",
       "2   38           Private    HS-grad              9            Divorced   \n",
       "3   53           Private       11th              7  Married-civ-spouse   \n",
       "4   28           Private  Bachelors             13  Married-civ-spouse   \n",
       "\n",
       "          occupation   relationship   race     sex  capital_gain  \\\n",
       "0       Adm-clerical  Not-in-family  White    Male          2174   \n",
       "1    Exec-managerial        Husband  White    Male             0   \n",
       "2  Handlers-cleaners  Not-in-family  White    Male             0   \n",
       "3  Handlers-cleaners        Husband  Black    Male             0   \n",
       "4     Prof-specialty           Wife  Black  Female             0   \n",
       "\n",
       "   capital_loss  hours_per_week native_country  \n",
       "0             0              40  United-States  \n",
       "1             0              13  United-States  \n",
       "2             0              40  United-States  \n",
       "3             0              40  United-States  \n",
       "4             0              40           Cuba  "
      ]
     },
     "execution_count": 22,
     "metadata": {},
     "output_type": "execute_result"
    }
   ],
   "source": [
    "y = adult_df.salary\n",
    "X = adult_df.drop(columns = ['salary'], axis = 1)\n"
   ]
  },
  {
   "cell_type": "code",
   "execution_count": 24,
   "metadata": {
    "scrolled": true
   },
   "outputs": [
    {
     "name": "stdout",
     "output_type": "stream",
     "text": [
      "(32561, 13)\n",
      "(32561,)\n"
     ]
    }
   ],
   "source": [
    "print( X.shape)\n",
    "print(y.shape)"
   ]
  },
  {
   "cell_type": "markdown",
   "metadata": {},
   "source": [
    "#### i) For this homework we will try converting columns with factors to separate columns (i.e. one-hot encoding). It is not necessary for trees, but can be a very powerful tool to use. There are a variety of ways to do this, but we can use Pandas built-in method .get_dummies(). Pandas will automatically split out columns that are categorical. For now, just run across your full X dataframe."
   ]
  },
  {
   "cell_type": "code",
   "execution_count": 28,
   "metadata": {},
   "outputs": [
    {
     "data": {
      "text/plain": [
       "(32561, 107)"
      ]
     },
     "execution_count": 28,
     "metadata": {},
     "output_type": "execute_result"
    }
   ],
   "source": [
    "X_enc = pd.get_dummies(X)\n",
    "X_enc.shape"
   ]
  },
  {
   "cell_type": "markdown",
   "metadata": {},
   "source": [
    "#### j) Split data into train / test set using an 70/30 split. Verify that you have the same number of columns in your X_train and X_test."
   ]
  },
  {
   "cell_type": "code",
   "execution_count": 30,
   "metadata": {},
   "outputs": [],
   "source": [
    "from sklearn.model_selection import train_test_split\n",
    "\n",
    "X_train, X_test, y_train, y_test = train_test_split(X_enc.to_numpy(), y.to_numpy(), test_size=0.3, random_state=42)\n",
    "print(X_train.shape)\n",
    "print(X_test.shape)"
   ]
  },
  {
   "cell_type": "markdown",
   "metadata": {},
   "source": [
    "## 2. Random Forest Classifier - Base Model:"
   ]
  },
  {
   "cell_type": "markdown",
   "metadata": {},
   "source": [
    "#### a) Use the RandomForestClassifier in sklearn. Fit your model on the training data."
   ]
  },
  {
   "cell_type": "code",
   "execution_count": 32,
   "metadata": {},
   "outputs": [
    {
     "name": "stderr",
     "output_type": "stream",
     "text": [
      "C:\\Users\\akars\\Anaconda3\\lib\\site-packages\\sklearn\\ensemble\\forest.py:246: FutureWarning: The default value of n_estimators will change from 10 in version 0.20 to 100 in 0.22.\n",
      "  \"10 in version 0.20 to 100 in 0.22.\", FutureWarning)\n"
     ]
    },
    {
     "data": {
      "text/plain": [
       "RandomForestClassifier(bootstrap=True, class_weight=None, criterion='gini',\n",
       "            max_depth=None, max_features='auto', max_leaf_nodes=None,\n",
       "            min_impurity_decrease=0.0, min_impurity_split=None,\n",
       "            min_samples_leaf=1, min_samples_split=2,\n",
       "            min_weight_fraction_leaf=0.0, n_estimators=10, n_jobs=None,\n",
       "            oob_score=False, random_state=42, verbose=0, warm_start=False)"
      ]
     },
     "execution_count": 32,
     "metadata": {},
     "output_type": "execute_result"
    }
   ],
   "source": [
    "from sklearn.ensemble import RandomForestClassifier\n",
    "\n",
    "mdl1 = RandomForestClassifier(random_state = 42)\n",
    "\n",
    "mdl1.fit(X_train, y_train)"
   ]
  },
  {
   "cell_type": "markdown",
   "metadata": {},
   "source": [
    "#### b) Use the fitted model to predict on test data. Use the .predict_proba() and the .predict() methods to get predicted probabilities as well as predicted classes."
   ]
  },
  {
   "cell_type": "code",
   "execution_count": 33,
   "metadata": {},
   "outputs": [],
   "source": [
    "predY_1 = mdl1.predict(X_test)\n",
    "predProb_1 = mdl1.predict_proba(X_test)"
   ]
  },
  {
   "cell_type": "markdown",
   "metadata": {},
   "source": [
    "#### c) Calculate the confusion matrix and classification report (both are in sklearn.metrics)."
   ]
  },
  {
   "cell_type": "code",
   "execution_count": 34,
   "metadata": {
    "scrolled": true
   },
   "outputs": [
    {
     "name": "stdout",
     "output_type": "stream",
     "text": [
      "Confusion Matrix\n",
      "\n",
      " [[6847  608]\n",
      " [ 921 1393]]\n",
      "\n",
      "\n",
      "\n",
      "Classification Report\n",
      "\n",
      "               precision    recall  f1-score   support\n",
      "\n",
      "           0       0.88      0.92      0.90      7455\n",
      "           1       0.70      0.60      0.65      2314\n",
      "\n",
      "   micro avg       0.84      0.84      0.84      9769\n",
      "   macro avg       0.79      0.76      0.77      9769\n",
      "weighted avg       0.84      0.84      0.84      9769\n",
      "\n"
     ]
    }
   ],
   "source": [
    "# import the metrics class\n",
    "from sklearn import metrics\n",
    "\n",
    "#Confusion Matrix\n",
    "cnf_matrix = metrics.confusion_matrix(y_test, predY_1)\n",
    "print(\"Confusion Matrix\\n\\n\", cnf_matrix)\n",
    "\n",
    "print(\"\\n\\n\")\n",
    "#Classification Report\n",
    "cl_report = metrics.classification_report(y_test, predY_1)\n",
    "print(\"Classification Report\\n\\n\", cl_report)"
   ]
  },
  {
   "cell_type": "markdown",
   "metadata": {},
   "source": [
    "#### d) Calculate the AUC score (we did this in HW #4 many times)."
   ]
  },
  {
   "cell_type": "code",
   "execution_count": 36,
   "metadata": {},
   "outputs": [
    {
     "data": {
      "text/plain": [
       "0.7602159485289727"
      ]
     },
     "execution_count": 36,
     "metadata": {},
     "output_type": "execute_result"
    }
   ],
   "source": [
    "from sklearn.metrics import roc_auc_score\n",
    "\n",
    "roc_auc_score(y_test, predY_1)"
   ]
  },
  {
   "cell_type": "markdown",
   "metadata": {},
   "source": [
    "#### e) Identify the top 5 features. Feel free to print a list OR to make a plot."
   ]
  },
  {
   "cell_type": "code",
   "execution_count": 42,
   "metadata": {},
   "outputs": [
    {
     "data": {
      "image/png": "[encoded data removed]",
      "text/plain": [
       "<Figure size 432x288 with 1 Axes>"
      ]
     },
     "metadata": {
      "needs_background": "light"
     },
     "output_type": "display_data"
    }
   ],
   "source": [
    "feat_importances = pd.Series(mdl1.feature_importances_, index=X_enc.columns)\n",
    "plt = feat_importances.nlargest(5).plot(kind='barh')\n",
    "plt.invert_yaxis()"
   ]
  },
  {
   "cell_type": "markdown",
   "metadata": {},
   "source": [
    "#### f) Using the model from part B, predict for the train data. Look at the classification report for the train data - is there overfitting for the RandomForest model happening?"
   ]
  },
  {
   "cell_type": "code",
   "execution_count": 44,
   "metadata": {},
   "outputs": [],
   "source": [
    "predY_tr_1 = mdl1.predict(X_train)\n",
    "predProb_tr_1 = mdl1.predict_proba(X_train)"
   ]
  },
  {
   "cell_type": "code",
   "execution_count": 45,
   "metadata": {},
   "outputs": [
    {
     "name": "stdout",
     "output_type": "stream",
     "text": [
      "Confusion Matrix\n",
      "\n",
      " [[17033   232]\n",
      " [  465  5062]]\n",
      "\n",
      "\n",
      "\n",
      "Classification Report\n",
      "\n",
      "               precision    recall  f1-score   support\n",
      "\n",
      "           0       0.97      0.99      0.98     17265\n",
      "           1       0.96      0.92      0.94      5527\n",
      "\n",
      "   micro avg       0.97      0.97      0.97     22792\n",
      "   macro avg       0.96      0.95      0.96     22792\n",
      "weighted avg       0.97      0.97      0.97     22792\n",
      "\n"
     ]
    }
   ],
   "source": [
    "# import the metrics class\n",
    "from sklearn import metrics\n",
    "\n",
    "#Confusion Matrix\n",
    "cnf_matrix = metrics.confusion_matrix(y_train, predY_tr_1)\n",
    "print(\"Confusion Matrix\\n\\n\", cnf_matrix)\n",
    "\n",
    "print(\"\\n\\n\")\n",
    "#Classification Report\n",
    "cl_report = metrics.classification_report(y_train, predY_tr_1)\n",
    "print(\"Classification Report\\n\\n\", cl_report)"
   ]
  },
  {
   "cell_type": "markdown",
   "metadata": {},
   "source": [
    "There are clear signs of overfitting as precision, recall, and f1-score are significantly higher in training dataset as compared to test dataset. One of the reasons this might occur is due to lack of hyperparameter tuning which we will do in the next models."
   ]
  },
  {
   "cell_type": "markdown",
   "metadata": {},
   "source": [
    "## 3. AdaBoost Classifier - GridSearch:"
   ]
  },
  {
   "cell_type": "markdown",
   "metadata": {},
   "source": [
    "#### a) Use the AdaBoostClassifier along with the GridSearchCV tool. Run the GridSearchCV using the following:\n",
    "\n",
    "1. n_estimators: 100, 200, 300, 400\n",
    "2. learning_rate: 0.2,0.4,0.6,0.8,1, 1.2\n",
    "\n",
    "Use 5 cross-fold and for scoring use \"roc_auc\" (this is the score that will be referenced when identifying the best parameters)."
   ]
  },
  {
   "cell_type": "code",
   "execution_count": 47,
   "metadata": {},
   "outputs": [],
   "source": [
    "from sklearn.model_selection import GridSearchCV\n",
    "from sklearn.ensemble import AdaBoostClassifier\n",
    "\n",
    "#create a dictionary of parameters \n",
    "param_grid = {\n",
    "    'n_estimators': [100, 200, 300, 400],\n",
    "    'learning_rate': [0.2,0.4,0.6,0.8,1, 1.2]\n",
    "}\n",
    "\n",
    "# create Random Forest model \n",
    "ada_obj=AdaBoostClassifier()\n",
    "\n",
    "# Create gridsearch object with various combinations of parameters\n",
    "ada_Grid = GridSearchCV(ada_obj, param_grid, cv = 5, scoring = 'roc_auc',refit = True, n_jobs=-1, verbose = 5)"
   ]
  },
  {
   "cell_type": "code",
   "execution_count": 48,
   "metadata": {},
   "outputs": [
    {
     "name": "stdout",
     "output_type": "stream",
     "text": [
      "Fitting 5 folds for each of 24 candidates, totalling 120 fits\n"
     ]
    },
    {
     "name": "stderr",
     "output_type": "stream",
     "text": [
      "[Parallel(n_jobs=-1)]: Using backend LokyBackend with 8 concurrent workers.\n",
      "[Parallel(n_jobs=-1)]: Done   2 tasks      | elapsed:   15.1s\n",
      "[Parallel(n_jobs=-1)]: Done  56 tasks      | elapsed:  5.0min\n",
      "[Parallel(n_jobs=-1)]: Done 120 out of 120 | elapsed:  9.6min finished\n"
     ]
    },
    {
     "data": {
      "text/plain": [
       "GridSearchCV(cv=5, error_score='raise-deprecating',\n",
       "       estimator=AdaBoostClassifier(algorithm='SAMME.R', base_estimator=None,\n",
       "          learning_rate=1.0, n_estimators=50, random_state=None),\n",
       "       fit_params=None, iid='warn', n_jobs=-1,\n",
       "       param_grid={'n_estimators': [100, 200, 300, 400], 'learning_rate': [0.2, 0.4, 0.6, 0.8, 1, 1.2]},\n",
       "       pre_dispatch='2*n_jobs', refit=True, return_train_score='warn',\n",
       "       scoring='roc_auc', verbose=5)"
      ]
     },
     "execution_count": 48,
     "metadata": {},
     "output_type": "execute_result"
    }
   ],
   "source": [
    "# Fit the grid search to the data\n",
    "ada_Grid.fit(X_train, y_train)"
   ]
  },
  {
   "cell_type": "markdown",
   "metadata": {},
   "source": [
    "#### b) Use the best estimator from GridSearchCV to predict on test data. Use the .predict_proba() and the .predict() methods to get predicted probabilities as well as predicted classes."
   ]
  },
  {
   "cell_type": "code",
   "execution_count": 52,
   "metadata": {},
   "outputs": [
    {
     "data": {
      "text/plain": [
       "{'learning_rate': 1.2, 'n_estimators': 400}"
      ]
     },
     "execution_count": 52,
     "metadata": {},
     "output_type": "execute_result"
    }
   ],
   "source": [
    "ada_Grid.best_params_"
   ]
  },
  {
   "cell_type": "code",
   "execution_count": 53,
   "metadata": {},
   "outputs": [],
   "source": [
    "ada_mdl = ada_Grid.best_estimator_"
   ]
  },
  {
   "cell_type": "code",
   "execution_count": 54,
   "metadata": {},
   "outputs": [],
   "source": [
    "predY_2 = ada_mdl.predict(X_test)\n",
    "predProb_2 = ada_mdl.predict_proba(X_test)"
   ]
  },
  {
   "cell_type": "markdown",
   "metadata": {},
   "source": [
    "#### c) Calculate the confusion matrix and classification report (both are in sklearn.metrics)."
   ]
  },
  {
   "cell_type": "code",
   "execution_count": 55,
   "metadata": {},
   "outputs": [
    {
     "name": "stdout",
     "output_type": "stream",
     "text": [
      "Confusion Matrix\n",
      "\n",
      " [[7008  447]\n",
      " [ 807 1507]]\n",
      "\n",
      "\n",
      "\n",
      "Classification Report\n",
      "\n",
      "               precision    recall  f1-score   support\n",
      "\n",
      "           0       0.90      0.94      0.92      7455\n",
      "           1       0.77      0.65      0.71      2314\n",
      "\n",
      "   micro avg       0.87      0.87      0.87      9769\n",
      "   macro avg       0.83      0.80      0.81      9769\n",
      "weighted avg       0.87      0.87      0.87      9769\n",
      "\n"
     ]
    }
   ],
   "source": [
    "#Confusion Matrix\n",
    "cnf_matrix = metrics.confusion_matrix(y_test, predY_2)\n",
    "print(\"Confusion Matrix\\n\\n\", cnf_matrix)\n",
    "\n",
    "print(\"\\n\\n\")\n",
    "#Classification Report\n",
    "cl_report = metrics.classification_report(y_test, predY_2)\n",
    "print(\"Classification Report\\n\\n\", cl_report)"
   ]
  },
  {
   "cell_type": "markdown",
   "metadata": {},
   "source": [
    "#### d) Calculate the AUC score"
   ]
  },
  {
   "cell_type": "code",
   "execution_count": 56,
   "metadata": {},
   "outputs": [
    {
     "data": {
      "text/plain": [
       "0.7956467412947869"
      ]
     },
     "execution_count": 56,
     "metadata": {},
     "output_type": "execute_result"
    }
   ],
   "source": [
    "roc_auc_score(y_test, predY_2)"
   ]
  },
  {
   "cell_type": "markdown",
   "metadata": {},
   "source": [
    "#### e) Identify the top 5 features. Feel free to print a list OR to make a plot."
   ]
  },
  {
   "cell_type": "code",
   "execution_count": 57,
   "metadata": {},
   "outputs": [
    {
     "data": {
      "image/png": "[encoded data removed]",
      "text/plain": [
       "<Figure size 432x288 with 1 Axes>"
      ]
     },
     "metadata": {
      "needs_background": "light"
     },
     "output_type": "display_data"
    }
   ],
   "source": [
    "feat_importances = pd.Series(ada_mdl.feature_importances_, index=X_enc.columns)\n",
    "plt = feat_importances.nlargest(5).plot(kind='barh')\n",
    "plt.invert_yaxis()"
   ]
  },
  {
   "cell_type": "markdown",
   "metadata": {},
   "source": [
    "#### f) Using the model from part (b), predict for the train data. Look at the classification report for the train data - is there overfitting for the best estimator?"
   ]
  },
  {
   "cell_type": "code",
   "execution_count": 64,
   "metadata": {},
   "outputs": [],
   "source": [
    "predY_tr_2 = ada_mdl.predict(X_train)\n",
    "predProb_tr_2 = ada_mdl.predict_proba(X_train)"
   ]
  },
  {
   "cell_type": "code",
   "execution_count": 65,
   "metadata": {},
   "outputs": [
    {
     "name": "stdout",
     "output_type": "stream",
     "text": [
      "Confusion Matrix\n",
      "\n",
      " [[16247  1018]\n",
      " [ 1902  3625]]\n",
      "\n",
      "\n",
      "\n",
      "Classification Report\n",
      "\n",
      "               precision    recall  f1-score   support\n",
      "\n",
      "           0       0.90      0.94      0.92     17265\n",
      "           1       0.78      0.66      0.71      5527\n",
      "\n",
      "   micro avg       0.87      0.87      0.87     22792\n",
      "   macro avg       0.84      0.80      0.82     22792\n",
      "weighted avg       0.87      0.87      0.87     22792\n",
      "\n"
     ]
    }
   ],
   "source": [
    "#Confusion Matrix\n",
    "cnf_matrix = metrics.confusion_matrix(y_train, predY_tr_2)\n",
    "print(\"Confusion Matrix\\n\\n\", cnf_matrix)\n",
    "\n",
    "print(\"\\n\\n\")\n",
    "#Classification Report\n",
    "cl_report = metrics.classification_report(y_train, predY_tr_2)\n",
    "print(\"Classification Report\\n\\n\", cl_report)"
   ]
  },
  {
   "cell_type": "markdown",
   "metadata": {},
   "source": [
    "There's no sign of overfitting as the model metrics of the training dataset are comparable to that of the test dataset."
   ]
  },
  {
   "cell_type": "markdown",
   "metadata": {},
   "source": [
    "## 4. Gradient Boosting Classifier - GridSearch:"
   ]
  },
  {
   "cell_type": "markdown",
   "metadata": {},
   "source": [
    "#### a) Use GradientBoostingClassifier along with the GridSearchCV tool. Run the GridSearchCV using the following hyperparameters:\n",
    "\n",
    "1. n_estimators: 100,200, 300 & 400\n",
    "2. learning_rate: choose 3 learning rates of your choice\n",
    "3. max_depth: 1, 2 (you can try deeper, but remember part of the value of boosting stems from minimal complexity of trees)\n",
    "\n",
    "Note: Feel free to try out more parameters, the above is the bare minimum for this assignment.\n",
    "\n",
    "Use 5 cross-fold and for scoring use \"roc_auc\" (this is the score that will be referenced when identifying the best parameters)."
   ]
  },
  {
   "cell_type": "code",
   "execution_count": 61,
   "metadata": {},
   "outputs": [],
   "source": [
    "from sklearn.model_selection import GridSearchCV\n",
    "from sklearn.ensemble import GradientBoostingClassifier\n",
    "\n",
    "#create a dictionary of parameters \n",
    "param_grid = {\n",
    "    'n_estimators': [100, 200, 300, 400],\n",
    "    'learning_rate': [0.2,0.4,0.6,0.8,1, 1.2],\n",
    "    'max_depth': [1,2]\n",
    "}\n",
    "\n",
    "# create Random Forest model \n",
    "gb_obj=GradientBoostingClassifier()\n",
    "\n",
    "# Create gridsearch object with various combinations of parameters\n",
    "gb_Grid = GridSearchCV(gb_obj, param_grid, cv = 5, scoring = 'roc_auc',refit = True, n_jobs=-1, verbose = 5)"
   ]
  },
  {
   "cell_type": "code",
   "execution_count": 62,
   "metadata": {},
   "outputs": [
    {
     "name": "stdout",
     "output_type": "stream",
     "text": [
      "Fitting 5 folds for each of 48 candidates, totalling 240 fits\n"
     ]
    },
    {
     "name": "stderr",
     "output_type": "stream",
     "text": [
      "[Parallel(n_jobs=-1)]: Using backend LokyBackend with 8 concurrent workers.\n",
      "[Parallel(n_jobs=-1)]: Done   2 tasks      | elapsed:   15.2s\n",
      "[Parallel(n_jobs=-1)]: Done  56 tasks      | elapsed:  6.5min\n",
      "[Parallel(n_jobs=-1)]: Done 146 tasks      | elapsed: 15.8min\n",
      "[Parallel(n_jobs=-1)]: Done 240 out of 240 | elapsed: 26.7min finished\n"
     ]
    },
    {
     "data": {
      "text/plain": [
       "GridSearchCV(cv=5, error_score='raise-deprecating',\n",
       "       estimator=GradientBoostingClassifier(criterion='friedman_mse', init=None,\n",
       "              learning_rate=0.1, loss='deviance', max_depth=3,\n",
       "              max_features=None, max_leaf_nodes=None,\n",
       "              min_impurity_decrease=0.0, min_impurity_split=None,\n",
       "              min_samples_leaf=1, min_sampl...      subsample=1.0, tol=0.0001, validation_fraction=0.1,\n",
       "              verbose=0, warm_start=False),\n",
       "       fit_params=None, iid='warn', n_jobs=-1,\n",
       "       param_grid={'n_estimators': [100, 200, 300, 400], 'learning_rate': [0.2, 0.4, 0.6, 0.8, 1, 1.2], 'max_depth': [1, 2]},\n",
       "       pre_dispatch='2*n_jobs', refit=True, return_train_score='warn',\n",
       "       scoring='roc_auc', verbose=5)"
      ]
     },
     "execution_count": 62,
     "metadata": {},
     "output_type": "execute_result"
    }
   ],
   "source": [
    "# Fit the grid search to the data\n",
    "gb_Grid.fit(X_train, y_train)"
   ]
  },
  {
   "cell_type": "markdown",
   "metadata": {},
   "source": [
    "#### b) Use the best estimator from GridSearchCV to predict on test data. Use the .predict_proba() and the .predict() methods to get predicted probabilities as well as predicted classes."
   ]
  },
  {
   "cell_type": "code",
   "execution_count": 87,
   "metadata": {},
   "outputs": [
    {
     "data": {
      "text/plain": [
       "{'learning_rate': 0.2, 'max_depth': 2, 'n_estimators': 400}"
      ]
     },
     "execution_count": 87,
     "metadata": {},
     "output_type": "execute_result"
    }
   ],
   "source": [
    "gb_Grid.best_params_"
   ]
  },
  {
   "cell_type": "code",
   "execution_count": 88,
   "metadata": {},
   "outputs": [
    {
     "name": "stdout",
     "output_type": "stream",
     "text": [
      "{'learning_rate': 0.2, 'max_depth': 2, 'n_estimators': 400}\n"
     ]
    }
   ],
   "source": [
    "print(gb_Grid.best_params_)"
   ]
  },
  {
   "cell_type": "code",
   "execution_count": 67,
   "metadata": {},
   "outputs": [],
   "source": [
    "gb_mdl = gb_Grid.best_estimator_"
   ]
  },
  {
   "cell_type": "code",
   "execution_count": 68,
   "metadata": {},
   "outputs": [],
   "source": [
    "predY_3 = gb_mdl.predict(X_test)\n",
    "predProb_3 = gb_mdl.predict_proba(X_test)"
   ]
  },
  {
   "cell_type": "markdown",
   "metadata": {},
   "source": [
    "#### c) Calculate the confusion matrix and classification report (both are in sklearn.metrics)."
   ]
  },
  {
   "cell_type": "code",
   "execution_count": 69,
   "metadata": {},
   "outputs": [
    {
     "name": "stdout",
     "output_type": "stream",
     "text": [
      "Confusion Matrix\n",
      "\n",
      " [[7031  424]\n",
      " [ 814 1500]]\n",
      "\n",
      "\n",
      "\n",
      "Classification Report\n",
      "\n",
      "               precision    recall  f1-score   support\n",
      "\n",
      "           0       0.90      0.94      0.92      7455\n",
      "           1       0.78      0.65      0.71      2314\n",
      "\n",
      "   micro avg       0.87      0.87      0.87      9769\n",
      "   macro avg       0.84      0.80      0.81      9769\n",
      "weighted avg       0.87      0.87      0.87      9769\n",
      "\n"
     ]
    }
   ],
   "source": [
    "#Confusion Matrix\n",
    "cnf_matrix = metrics.confusion_matrix(y_test, predY_3)\n",
    "print(\"Confusion Matrix\\n\\n\", cnf_matrix)\n",
    "\n",
    "print(\"\\n\\n\")\n",
    "#Classification Report\n",
    "cl_report = metrics.classification_report(y_test, predY_3)\n",
    "print(\"Classification Report\\n\\n\", cl_report)"
   ]
  },
  {
   "cell_type": "markdown",
   "metadata": {},
   "source": [
    "#### d) Calculate the AUC score"
   ]
  },
  {
   "cell_type": "code",
   "execution_count": 70,
   "metadata": {},
   "outputs": [
    {
     "data": {
      "text/plain": [
       "0.7956767977499105"
      ]
     },
     "execution_count": 70,
     "metadata": {},
     "output_type": "execute_result"
    }
   ],
   "source": [
    "roc_auc_score(y_test, predY_3)"
   ]
  },
  {
   "cell_type": "markdown",
   "metadata": {},
   "source": [
    "#### e) Identify the top 5 features. Feel free to print a list OR to make a plot."
   ]
  },
  {
   "cell_type": "code",
   "execution_count": 71,
   "metadata": {},
   "outputs": [
    {
     "data": {
      "image/png": "[encoded data removed]",
      "text/plain": [
       "<Figure size 432x288 with 1 Axes>"
      ]
     },
     "metadata": {
      "needs_background": "light"
     },
     "output_type": "display_data"
    }
   ],
   "source": [
    "feat_importances = pd.Series(gb_mdl.feature_importances_, index=X_enc.columns)\n",
    "plt = feat_importances.nlargest(5).plot(kind='barh')\n",
    "plt.invert_yaxis()"
   ]
  },
  {
   "cell_type": "markdown",
   "metadata": {},
   "source": [
    "#### f) Using the model from part (b), predict for the train data. Look at the classification report for the train data - is there overfitting for the best estimator?"
   ]
  },
  {
   "cell_type": "code",
   "execution_count": 72,
   "metadata": {},
   "outputs": [],
   "source": [
    "predY_tr_3 = gb_mdl.predict(X_train)\n",
    "predProb_tr_3 = gb_mdl.predict_proba(X_train)"
   ]
  },
  {
   "cell_type": "code",
   "execution_count": 73,
   "metadata": {},
   "outputs": [
    {
     "name": "stdout",
     "output_type": "stream",
     "text": [
      "Confusion Matrix\n",
      "\n",
      " [[16388   877]\n",
      " [ 1828  3699]]\n",
      "\n",
      "\n",
      "\n",
      "Classification Report\n",
      "\n",
      "               precision    recall  f1-score   support\n",
      "\n",
      "           0       0.90      0.95      0.92     17265\n",
      "           1       0.81      0.67      0.73      5527\n",
      "\n",
      "   micro avg       0.88      0.88      0.88     22792\n",
      "   macro avg       0.85      0.81      0.83     22792\n",
      "weighted avg       0.88      0.88      0.88     22792\n",
      "\n"
     ]
    }
   ],
   "source": [
    "#Confusion Matrix\n",
    "cnf_matrix = metrics.confusion_matrix(y_train, predY_tr_3)\n",
    "print(\"Confusion Matrix\\n\\n\", cnf_matrix)\n",
    "\n",
    "print(\"\\n\\n\")\n",
    "#Classification Report\n",
    "cl_report = metrics.classification_report(y_train, predY_tr_3)\n",
    "print(\"Classification Report\\n\\n\", cl_report)"
   ]
  },
  {
   "cell_type": "markdown",
   "metadata": {},
   "source": [
    "Again, we don't see any significant signs of overfitting as the model metrics of the training and test dataset are comparable."
   ]
  },
  {
   "cell_type": "markdown",
   "metadata": {},
   "source": [
    "## 5. XGBoost - RandomizedSearchCV"
   ]
  },
  {
   "cell_type": "markdown",
   "metadata": {},
   "source": [
    "#### Repeat 4(a) - 4(f) with xgboost and RandomizedSearchCV.\n",
    "\n",
    "For 4a use the following parameters: \n",
    "\n",
    "1. n_estimators: 100-1000 in increments of 50  (i.e. 100,150,200,.....1000)\n",
    "2. learning_rate: 0.1 - 1.6 in increments of 0.1\n",
    "3. max_depth: 1, 2\n",
    "4. gamma: 0 - 5 in increments of 0.25\n",
    "\n",
    "Note: For parameters with increments please don't feel the need to type each value by hand. There are better ways to handle this. Post in discussion thread if you are struggling.\n",
    "\n",
    "For RandomizedSearchCV make sure to still use cv = 5 and for scoring use \"roc_auc\"."
   ]
  },
  {
   "cell_type": "code",
   "execution_count": 75,
   "metadata": {},
   "outputs": [
    {
     "name": "stdout",
     "output_type": "stream",
     "text": [
      "Collecting xgboost\n",
      "  Downloading https://files.pythonhosted.org/packages/5e/49/b95c037b717b4ceadc76b6e164603471225c27052d1611d5a2e832757945/xgboost-0.90-py2.py3-none-win_amd64.whl (18.3MB)\n",
      "Requirement already satisfied: scipy in c:\\users\\akars\\anaconda3\\lib\\site-packages (from xgboost) (1.2.1)\n",
      "Requirement already satisfied: numpy in c:\\users\\akars\\anaconda3\\lib\\site-packages (from xgboost) (1.16.2)\n",
      "Installing collected packages: xgboost\n",
      "Successfully installed xgboost-0.90\n"
     ]
    }
   ],
   "source": [
    "!pip install xgboost"
   ]
  },
  {
   "cell_type": "code",
   "execution_count": 78,
   "metadata": {},
   "outputs": [],
   "source": [
    "import xgboost as xgb\n",
    "from sklearn.model_selection import RandomizedSearchCV\n",
    "\n",
    "xg_obj = xgb.XGBClassifier()\n",
    "\n",
    "param_grid = {\n",
    "        'max_depth': [1,2],\n",
    "        'learning_rate': np.arange(0.1, 1.7, 0.1).tolist(),\n",
    "        'gamma': np.arange(0, 5.25, 0.25).tolist(),\n",
    "        'n_estimators': np.arange(100, 1100, 100).tolist()}\n",
    "\n",
    "xg_Grid = RandomizedSearchCV(xg_obj, param_grid, n_iter=20,\n",
    "                            n_jobs=1, verbose=2, cv=5,\n",
    "                            scoring='roc_auc', random_state=42)\n"
   ]
  },
  {
   "cell_type": "code",
   "execution_count": 79,
   "metadata": {
    "scrolled": true
   },
   "outputs": [
    {
     "name": "stdout",
     "output_type": "stream",
     "text": [
      "Fitting 5 folds for each of 20 candidates, totalling 100 fits\n",
      "[CV] n_estimators=100, max_depth=1, learning_rate=1.2000000000000002, gamma=0.5 \n"
     ]
    },
    {
     "name": "stderr",
     "output_type": "stream",
     "text": [
      "[Parallel(n_jobs=1)]: Using backend SequentialBackend with 1 concurrent workers.\n"
     ]
    },
    {
     "name": "stdout",
     "output_type": "stream",
     "text": [
      "[CV]  n_estimators=100, max_depth=1, learning_rate=1.2000000000000002, gamma=0.5, total=   3.6s\n",
      "[CV] n_estimators=100, max_depth=1, learning_rate=1.2000000000000002, gamma=0.5 \n"
     ]
    },
    {
     "name": "stderr",
     "output_type": "stream",
     "text": [
      "[Parallel(n_jobs=1)]: Done   1 out of   1 | elapsed:    3.7s remaining:    0.0s\n"
     ]
    },
    {
     "name": "stdout",
     "output_type": "stream",
     "text": [
      "[CV]  n_estimators=100, max_depth=1, learning_rate=1.2000000000000002, gamma=0.5, total=   3.8s\n",
      "[CV] n_estimators=100, max_depth=1, learning_rate=1.2000000000000002, gamma=0.5 \n",
      "[CV]  n_estimators=100, max_depth=1, learning_rate=1.2000000000000002, gamma=0.5, total=   4.3s\n",
      "[CV] n_estimators=100, max_depth=1, learning_rate=1.2000000000000002, gamma=0.5 \n",
      "[CV]  n_estimators=100, max_depth=1, learning_rate=1.2000000000000002, gamma=0.5, total=   3.9s\n",
      "[CV] n_estimators=100, max_depth=1, learning_rate=1.2000000000000002, gamma=0.5 \n",
      "[CV]  n_estimators=100, max_depth=1, learning_rate=1.2000000000000002, gamma=0.5, total=   4.1s\n",
      "[CV] n_estimators=100, max_depth=2, learning_rate=1.4000000000000001, gamma=4.0 \n",
      "[CV]  n_estimators=100, max_depth=2, learning_rate=1.4000000000000001, gamma=4.0, total=   6.7s\n",
      "[CV] n_estimators=100, max_depth=2, learning_rate=1.4000000000000001, gamma=4.0 \n",
      "[CV]  n_estimators=100, max_depth=2, learning_rate=1.4000000000000001, gamma=4.0, total=   7.1s\n",
      "[CV] n_estimators=100, max_depth=2, learning_rate=1.4000000000000001, gamma=4.0 \n",
      "[CV]  n_estimators=100, max_depth=2, learning_rate=1.4000000000000001, gamma=4.0, total=   6.7s\n",
      "[CV] n_estimators=100, max_depth=2, learning_rate=1.4000000000000001, gamma=4.0 \n",
      "[CV]  n_estimators=100, max_depth=2, learning_rate=1.4000000000000001, gamma=4.0, total=   5.6s\n",
      "[CV] n_estimators=100, max_depth=2, learning_rate=1.4000000000000001, gamma=4.0 \n",
      "[CV]  n_estimators=100, max_depth=2, learning_rate=1.4000000000000001, gamma=4.0, total=   5.9s\n",
      "[CV] n_estimators=700, max_depth=1, learning_rate=0.6, gamma=4.0 .....\n",
      "[CV]  n_estimators=700, max_depth=1, learning_rate=0.6, gamma=4.0, total=  30.3s\n",
      "[CV] n_estimators=700, max_depth=1, learning_rate=0.6, gamma=4.0 .....\n",
      "[CV]  n_estimators=700, max_depth=1, learning_rate=0.6, gamma=4.0, total=  34.8s\n",
      "[CV] n_estimators=700, max_depth=1, learning_rate=0.6, gamma=4.0 .....\n",
      "[CV]  n_estimators=700, max_depth=1, learning_rate=0.6, gamma=4.0, total=  34.7s\n",
      "[CV] n_estimators=700, max_depth=1, learning_rate=0.6, gamma=4.0 .....\n",
      "[CV]  n_estimators=700, max_depth=1, learning_rate=0.6, gamma=4.0, total=  36.9s\n",
      "[CV] n_estimators=700, max_depth=1, learning_rate=0.6, gamma=4.0 .....\n",
      "[CV]  n_estimators=700, max_depth=1, learning_rate=0.6, gamma=4.0, total=  35.5s\n",
      "[CV] n_estimators=200, max_depth=2, learning_rate=0.4, gamma=4.0 .....\n",
      "[CV]  n_estimators=200, max_depth=2, learning_rate=0.4, gamma=4.0, total=  17.2s\n",
      "[CV] n_estimators=200, max_depth=2, learning_rate=0.4, gamma=4.0 .....\n",
      "[CV]  n_estimators=200, max_depth=2, learning_rate=0.4, gamma=4.0, total=  13.1s\n",
      "[CV] n_estimators=200, max_depth=2, learning_rate=0.4, gamma=4.0 .....\n",
      "[CV]  n_estimators=200, max_depth=2, learning_rate=0.4, gamma=4.0, total=  13.5s\n",
      "[CV] n_estimators=200, max_depth=2, learning_rate=0.4, gamma=4.0 .....\n",
      "[CV]  n_estimators=200, max_depth=2, learning_rate=0.4, gamma=4.0, total=  13.2s\n",
      "[CV] n_estimators=200, max_depth=2, learning_rate=0.4, gamma=4.0 .....\n",
      "[CV]  n_estimators=200, max_depth=2, learning_rate=0.4, gamma=4.0, total=  13.2s\n",
      "[CV] n_estimators=300, max_depth=2, learning_rate=1.3000000000000003, gamma=2.75 \n",
      "[CV]  n_estimators=300, max_depth=2, learning_rate=1.3000000000000003, gamma=2.75, total=  19.6s\n",
      "[CV] n_estimators=300, max_depth=2, learning_rate=1.3000000000000003, gamma=2.75 \n",
      "[CV]  n_estimators=300, max_depth=2, learning_rate=1.3000000000000003, gamma=2.75, total=  25.4s\n",
      "[CV] n_estimators=300, max_depth=2, learning_rate=1.3000000000000003, gamma=2.75 \n",
      "[CV]  n_estimators=300, max_depth=2, learning_rate=1.3000000000000003, gamma=2.75, total=  25.6s\n",
      "[CV] n_estimators=300, max_depth=2, learning_rate=1.3000000000000003, gamma=2.75 \n",
      "[CV]  n_estimators=300, max_depth=2, learning_rate=1.3000000000000003, gamma=2.75, total=  25.1s\n",
      "[CV] n_estimators=300, max_depth=2, learning_rate=1.3000000000000003, gamma=2.75 \n",
      "[CV]  n_estimators=300, max_depth=2, learning_rate=1.3000000000000003, gamma=2.75, total=  23.3s\n",
      "[CV] n_estimators=300, max_depth=2, learning_rate=1.1, gamma=2.25 ....\n",
      "[CV]  n_estimators=300, max_depth=2, learning_rate=1.1, gamma=2.25, total=  20.9s\n",
      "[CV] n_estimators=300, max_depth=2, learning_rate=1.1, gamma=2.25 ....\n",
      "[CV]  n_estimators=300, max_depth=2, learning_rate=1.1, gamma=2.25, total=  20.7s\n",
      "[CV] n_estimators=300, max_depth=2, learning_rate=1.1, gamma=2.25 ....\n",
      "[CV]  n_estimators=300, max_depth=2, learning_rate=1.1, gamma=2.25, total=  28.0s\n",
      "[CV] n_estimators=300, max_depth=2, learning_rate=1.1, gamma=2.25 ....\n",
      "[CV]  n_estimators=300, max_depth=2, learning_rate=1.1, gamma=2.25, total=  23.1s\n",
      "[CV] n_estimators=300, max_depth=2, learning_rate=1.1, gamma=2.25 ....\n",
      "[CV]  n_estimators=300, max_depth=2, learning_rate=1.1, gamma=2.25, total=  21.4s\n",
      "[CV] n_estimators=500, max_depth=2, learning_rate=1.5000000000000002, gamma=4.25 \n",
      "[CV]  n_estimators=500, max_depth=2, learning_rate=1.5000000000000002, gamma=4.25, total=  37.4s\n",
      "[CV] n_estimators=500, max_depth=2, learning_rate=1.5000000000000002, gamma=4.25 \n",
      "[CV]  n_estimators=500, max_depth=2, learning_rate=1.5000000000000002, gamma=4.25, total=  44.7s\n",
      "[CV] n_estimators=500, max_depth=2, learning_rate=1.5000000000000002, gamma=4.25 \n",
      "[CV]  n_estimators=500, max_depth=2, learning_rate=1.5000000000000002, gamma=4.25, total=  39.6s\n",
      "[CV] n_estimators=500, max_depth=2, learning_rate=1.5000000000000002, gamma=4.25 \n",
      "[CV]  n_estimators=500, max_depth=2, learning_rate=1.5000000000000002, gamma=4.25, total=  40.0s\n",
      "[CV] n_estimators=500, max_depth=2, learning_rate=1.5000000000000002, gamma=4.25 \n",
      "[CV]  n_estimators=500, max_depth=2, learning_rate=1.5000000000000002, gamma=4.25, total=  47.0s\n",
      "[CV] n_estimators=600, max_depth=1, learning_rate=1.0, gamma=4.75 ....\n",
      "[CV]  n_estimators=600, max_depth=1, learning_rate=1.0, gamma=4.75, total=  34.5s\n",
      "[CV] n_estimators=600, max_depth=1, learning_rate=1.0, gamma=4.75 ....\n",
      "[CV]  n_estimators=600, max_depth=1, learning_rate=1.0, gamma=4.75, total=  34.8s\n",
      "[CV] n_estimators=600, max_depth=1, learning_rate=1.0, gamma=4.75 ....\n",
      "[CV]  n_estimators=600, max_depth=1, learning_rate=1.0, gamma=4.75, total=  41.2s\n",
      "[CV] n_estimators=600, max_depth=1, learning_rate=1.0, gamma=4.75 ....\n",
      "[CV]  n_estimators=600, max_depth=1, learning_rate=1.0, gamma=4.75, total=  35.4s\n",
      "[CV] n_estimators=600, max_depth=1, learning_rate=1.0, gamma=4.75 ....\n",
      "[CV]  n_estimators=600, max_depth=1, learning_rate=1.0, gamma=4.75, total=  40.1s\n",
      "[CV] n_estimators=700, max_depth=1, learning_rate=0.8, gamma=0.25 ....\n",
      "[CV]  n_estimators=700, max_depth=1, learning_rate=0.8, gamma=0.25, total=  39.8s\n",
      "[CV] n_estimators=700, max_depth=1, learning_rate=0.8, gamma=0.25 ....\n",
      "[CV]  n_estimators=700, max_depth=1, learning_rate=0.8, gamma=0.25, total=  36.1s\n",
      "[CV] n_estimators=700, max_depth=1, learning_rate=0.8, gamma=0.25 ....\n",
      "[CV]  n_estimators=700, max_depth=1, learning_rate=0.8, gamma=0.25, total=  34.5s\n",
      "[CV] n_estimators=700, max_depth=1, learning_rate=0.8, gamma=0.25 ....\n",
      "[CV]  n_estimators=700, max_depth=1, learning_rate=0.8, gamma=0.25, total=  42.0s\n",
      "[CV] n_estimators=700, max_depth=1, learning_rate=0.8, gamma=0.25 ....\n",
      "[CV]  n_estimators=700, max_depth=1, learning_rate=0.8, gamma=0.25, total=  36.8s\n",
      "[CV] n_estimators=500, max_depth=2, learning_rate=1.1, gamma=4.0 .....\n",
      "[CV]  n_estimators=500, max_depth=2, learning_rate=1.1, gamma=4.0, total=  27.9s\n",
      "[CV] n_estimators=500, max_depth=2, learning_rate=1.1, gamma=4.0 .....\n",
      "[CV]  n_estimators=500, max_depth=2, learning_rate=1.1, gamma=4.0, total=  30.8s\n",
      "[CV] n_estimators=500, max_depth=2, learning_rate=1.1, gamma=4.0 .....\n",
      "[CV]  n_estimators=500, max_depth=2, learning_rate=1.1, gamma=4.0, total=  38.6s\n",
      "[CV] n_estimators=500, max_depth=2, learning_rate=1.1, gamma=4.0 .....\n",
      "[CV]  n_estimators=500, max_depth=2, learning_rate=1.1, gamma=4.0, total=  33.3s\n",
      "[CV] n_estimators=500, max_depth=2, learning_rate=1.1, gamma=4.0 .....\n",
      "[CV]  n_estimators=500, max_depth=2, learning_rate=1.1, gamma=4.0, total=  32.9s\n",
      "[CV] n_estimators=700, max_depth=1, learning_rate=1.4000000000000001, gamma=3.25 \n",
      "[CV]  n_estimators=700, max_depth=1, learning_rate=1.4000000000000001, gamma=3.25, total=  48.8s\n",
      "[CV] n_estimators=700, max_depth=1, learning_rate=1.4000000000000001, gamma=3.25 \n",
      "[CV]  n_estimators=700, max_depth=1, learning_rate=1.4000000000000001, gamma=3.25, total=  39.7s\n",
      "[CV] n_estimators=700, max_depth=1, learning_rate=1.4000000000000001, gamma=3.25 \n"
     ]
    },
    {
     "name": "stdout",
     "output_type": "stream",
     "text": [
      "[CV]  n_estimators=700, max_depth=1, learning_rate=1.4000000000000001, gamma=3.25, total=  35.7s\n",
      "[CV] n_estimators=700, max_depth=1, learning_rate=1.4000000000000001, gamma=3.25 \n",
      "[CV]  n_estimators=700, max_depth=1, learning_rate=1.4000000000000001, gamma=3.25, total=  38.5s\n",
      "[CV] n_estimators=700, max_depth=1, learning_rate=1.4000000000000001, gamma=3.25 \n",
      "[CV]  n_estimators=700, max_depth=1, learning_rate=1.4000000000000001, gamma=3.25, total=  33.8s\n",
      "[CV] n_estimators=900, max_depth=2, learning_rate=0.7000000000000001, gamma=4.25 \n",
      "[CV]  n_estimators=900, max_depth=2, learning_rate=0.7000000000000001, gamma=4.25, total=  59.4s\n",
      "[CV] n_estimators=900, max_depth=2, learning_rate=0.7000000000000001, gamma=4.25 \n",
      "[CV]  n_estimators=900, max_depth=2, learning_rate=0.7000000000000001, gamma=4.25, total= 1.1min\n",
      "[CV] n_estimators=900, max_depth=2, learning_rate=0.7000000000000001, gamma=4.25 \n",
      "[CV]  n_estimators=900, max_depth=2, learning_rate=0.7000000000000001, gamma=4.25, total= 1.0min\n",
      "[CV] n_estimators=900, max_depth=2, learning_rate=0.7000000000000001, gamma=4.25 \n",
      "[CV]  n_estimators=900, max_depth=2, learning_rate=0.7000000000000001, gamma=4.25, total= 1.0min\n",
      "[CV] n_estimators=900, max_depth=2, learning_rate=0.7000000000000001, gamma=4.25 \n",
      "[CV]  n_estimators=900, max_depth=2, learning_rate=0.7000000000000001, gamma=4.25, total= 1.0min\n",
      "[CV] n_estimators=200, max_depth=2, learning_rate=0.8, gamma=4.75 ....\n",
      "[CV]  n_estimators=200, max_depth=2, learning_rate=0.8, gamma=4.75, total=  15.4s\n",
      "[CV] n_estimators=200, max_depth=2, learning_rate=0.8, gamma=4.75 ....\n",
      "[CV]  n_estimators=200, max_depth=2, learning_rate=0.8, gamma=4.75, total=  13.1s\n",
      "[CV] n_estimators=200, max_depth=2, learning_rate=0.8, gamma=4.75 ....\n",
      "[CV]  n_estimators=200, max_depth=2, learning_rate=0.8, gamma=4.75, total=  13.5s\n",
      "[CV] n_estimators=200, max_depth=2, learning_rate=0.8, gamma=4.75 ....\n",
      "[CV]  n_estimators=200, max_depth=2, learning_rate=0.8, gamma=4.75, total=  12.9s\n",
      "[CV] n_estimators=200, max_depth=2, learning_rate=0.8, gamma=4.75 ....\n",
      "[CV]  n_estimators=200, max_depth=2, learning_rate=0.8, gamma=4.75, total=  13.3s\n",
      "[CV] n_estimators=500, max_depth=1, learning_rate=1.3000000000000003, gamma=2.5 \n",
      "[CV]  n_estimators=500, max_depth=1, learning_rate=1.3000000000000003, gamma=2.5, total=  23.9s\n",
      "[CV] n_estimators=500, max_depth=1, learning_rate=1.3000000000000003, gamma=2.5 \n",
      "[CV]  n_estimators=500, max_depth=1, learning_rate=1.3000000000000003, gamma=2.5, total=  26.7s\n",
      "[CV] n_estimators=500, max_depth=1, learning_rate=1.3000000000000003, gamma=2.5 \n",
      "[CV]  n_estimators=500, max_depth=1, learning_rate=1.3000000000000003, gamma=2.5, total=  26.2s\n",
      "[CV] n_estimators=500, max_depth=1, learning_rate=1.3000000000000003, gamma=2.5 \n",
      "[CV]  n_estimators=500, max_depth=1, learning_rate=1.3000000000000003, gamma=2.5, total=  24.1s\n",
      "[CV] n_estimators=500, max_depth=1, learning_rate=1.3000000000000003, gamma=2.5 \n",
      "[CV]  n_estimators=500, max_depth=1, learning_rate=1.3000000000000003, gamma=2.5, total=  24.0s\n",
      "[CV] n_estimators=200, max_depth=2, learning_rate=1.5000000000000002, gamma=2.25 \n",
      "[CV]  n_estimators=200, max_depth=2, learning_rate=1.5000000000000002, gamma=2.25, total=  13.0s\n",
      "[CV] n_estimators=200, max_depth=2, learning_rate=1.5000000000000002, gamma=2.25 \n",
      "[CV]  n_estimators=200, max_depth=2, learning_rate=1.5000000000000002, gamma=2.25, total=  12.9s\n",
      "[CV] n_estimators=200, max_depth=2, learning_rate=1.5000000000000002, gamma=2.25 \n",
      "[CV]  n_estimators=200, max_depth=2, learning_rate=1.5000000000000002, gamma=2.25, total=  13.8s\n",
      "[CV] n_estimators=200, max_depth=2, learning_rate=1.5000000000000002, gamma=2.25 \n",
      "[CV]  n_estimators=200, max_depth=2, learning_rate=1.5000000000000002, gamma=2.25, total=  16.6s\n",
      "[CV] n_estimators=200, max_depth=2, learning_rate=1.5000000000000002, gamma=2.25 \n",
      "[CV]  n_estimators=200, max_depth=2, learning_rate=1.5000000000000002, gamma=2.25, total=  12.7s\n",
      "[CV] n_estimators=1000, max_depth=2, learning_rate=0.2, gamma=2.25 ...\n",
      "[CV]  n_estimators=1000, max_depth=2, learning_rate=0.2, gamma=2.25, total= 1.2min\n",
      "[CV] n_estimators=1000, max_depth=2, learning_rate=0.2, gamma=2.25 ...\n",
      "[CV]  n_estimators=1000, max_depth=2, learning_rate=0.2, gamma=2.25, total= 1.8min\n",
      "[CV] n_estimators=1000, max_depth=2, learning_rate=0.2, gamma=2.25 ...\n",
      "[CV]  n_estimators=1000, max_depth=2, learning_rate=0.2, gamma=2.25, total= 1.8min\n",
      "[CV] n_estimators=1000, max_depth=2, learning_rate=0.2, gamma=2.25 ...\n",
      "[CV]  n_estimators=1000, max_depth=2, learning_rate=0.2, gamma=2.25, total= 1.8min\n",
      "[CV] n_estimators=1000, max_depth=2, learning_rate=0.2, gamma=2.25 ...\n",
      "[CV]  n_estimators=1000, max_depth=2, learning_rate=0.2, gamma=2.25, total= 1.8min\n",
      "[CV] n_estimators=100, max_depth=2, learning_rate=0.7000000000000001, gamma=0.0 \n",
      "[CV]  n_estimators=100, max_depth=2, learning_rate=0.7000000000000001, gamma=0.0, total=  10.9s\n",
      "[CV] n_estimators=100, max_depth=2, learning_rate=0.7000000000000001, gamma=0.0 \n",
      "[CV]  n_estimators=100, max_depth=2, learning_rate=0.7000000000000001, gamma=0.0, total=  10.9s\n",
      "[CV] n_estimators=100, max_depth=2, learning_rate=0.7000000000000001, gamma=0.0 \n",
      "[CV]  n_estimators=100, max_depth=2, learning_rate=0.7000000000000001, gamma=0.0, total=  10.9s\n",
      "[CV] n_estimators=100, max_depth=2, learning_rate=0.7000000000000001, gamma=0.0 \n",
      "[CV]  n_estimators=100, max_depth=2, learning_rate=0.7000000000000001, gamma=0.0, total=  10.9s\n",
      "[CV] n_estimators=100, max_depth=2, learning_rate=0.7000000000000001, gamma=0.0 \n",
      "[CV]  n_estimators=100, max_depth=2, learning_rate=0.7000000000000001, gamma=0.0, total=  11.0s\n",
      "[CV] n_estimators=600, max_depth=1, learning_rate=0.5, gamma=1.25 ....\n",
      "[CV]  n_estimators=600, max_depth=1, learning_rate=0.5, gamma=1.25, total=  48.1s\n",
      "[CV] n_estimators=600, max_depth=1, learning_rate=0.5, gamma=1.25 ....\n",
      "[CV]  n_estimators=600, max_depth=1, learning_rate=0.5, gamma=1.25, total=  48.1s\n",
      "[CV] n_estimators=600, max_depth=1, learning_rate=0.5, gamma=1.25 ....\n",
      "[CV]  n_estimators=600, max_depth=1, learning_rate=0.5, gamma=1.25, total=  48.3s\n",
      "[CV] n_estimators=600, max_depth=1, learning_rate=0.5, gamma=1.25 ....\n",
      "[CV]  n_estimators=600, max_depth=1, learning_rate=0.5, gamma=1.25, total=  48.4s\n",
      "[CV] n_estimators=600, max_depth=1, learning_rate=0.5, gamma=1.25 ....\n",
      "[CV]  n_estimators=600, max_depth=1, learning_rate=0.5, gamma=1.25, total=  48.1s\n",
      "[CV] n_estimators=1000, max_depth=1, learning_rate=0.7000000000000001, gamma=0.5 \n",
      "[CV]  n_estimators=1000, max_depth=1, learning_rate=0.7000000000000001, gamma=0.5, total= 1.3min\n",
      "[CV] n_estimators=1000, max_depth=1, learning_rate=0.7000000000000001, gamma=0.5 \n",
      "[CV]  n_estimators=1000, max_depth=1, learning_rate=0.7000000000000001, gamma=0.5, total= 8.2min\n",
      "[CV] n_estimators=1000, max_depth=1, learning_rate=0.7000000000000001, gamma=0.5 \n",
      "[CV]  n_estimators=1000, max_depth=1, learning_rate=0.7000000000000001, gamma=0.5, total= 1.4min\n",
      "[CV] n_estimators=1000, max_depth=1, learning_rate=0.7000000000000001, gamma=0.5 \n",
      "[CV]  n_estimators=1000, max_depth=1, learning_rate=0.7000000000000001, gamma=0.5, total= 1.4min\n",
      "[CV] n_estimators=1000, max_depth=1, learning_rate=0.7000000000000001, gamma=0.5 \n",
      "[CV]  n_estimators=1000, max_depth=1, learning_rate=0.7000000000000001, gamma=0.5, total= 1.5min\n",
      "[CV] n_estimators=200, max_depth=2, learning_rate=0.8, gamma=1.75 ....\n",
      "[CV]  n_estimators=200, max_depth=2, learning_rate=0.8, gamma=1.75, total=  28.0s\n",
      "[CV] n_estimators=200, max_depth=2, learning_rate=0.8, gamma=1.75 ....\n",
      "[CV]  n_estimators=200, max_depth=2, learning_rate=0.8, gamma=1.75, total=  25.7s\n",
      "[CV] n_estimators=200, max_depth=2, learning_rate=0.8, gamma=1.75 ....\n",
      "[CV]  n_estimators=200, max_depth=2, learning_rate=0.8, gamma=1.75, total=  25.0s\n",
      "[CV] n_estimators=200, max_depth=2, learning_rate=0.8, gamma=1.75 ....\n",
      "[CV]  n_estimators=200, max_depth=2, learning_rate=0.8, gamma=1.75, total=  25.1s\n",
      "[CV] n_estimators=200, max_depth=2, learning_rate=0.8, gamma=1.75 ....\n",
      "[CV]  n_estimators=200, max_depth=2, learning_rate=0.8, gamma=1.75, total=  20.4s\n"
     ]
    },
    {
     "name": "stderr",
     "output_type": "stream",
     "text": [
      "[Parallel(n_jobs=1)]: Done 100 out of 100 | elapsed: 63.7min finished\n"
     ]
    },
    {
     "data": {
      "text/plain": [
       "RandomizedSearchCV(cv=5, error_score='raise-deprecating',\n",
       "          estimator=XGBClassifier(base_score=0.5, booster='gbtree', colsample_bylevel=1,\n",
       "       colsample_bynode=1, colsample_bytree=1, gamma=0, learning_rate=0.1,\n",
       "       max_delta_step=0, max_depth=3, min_child_weight=1, missing=None,\n",
       "       n_estimators=100, n_jobs=1, nthread=None,\n",
       "       objective='binary:logistic', random_state=0, reg_alpha=0,\n",
       "       reg_lambda=1, scale_pos_weight=1, seed=None, silent=None,\n",
       "       subsample=1, verbosity=1),\n",
       "          fit_params=None, iid='warn', n_iter=20, n_jobs=1,\n",
       "          param_distributions={'max_depth': [1, 2], 'learning_rate': [0.1, 0.2, 0.30000000000000004, 0.4, 0.5, 0.6, 0.7000000000000001, 0.8, 0.9, 1.0, 1.1, 1.2000000000000002, 1.3000000000000003, 1.4000000000000001, 1.5000000000000002, 1.6], 'gamma': [0.0, 0.25, 0.5, 0.75, 1.0, 1.25, 1.5, 1.75, 2.0, 2.25, 2.5, 2.75, 3.0, 3.25, 3.5, 3.75, 4.0, 4.25, 4.5, 4.75, 5.0], 'n_estimators': [100, 200, 300, 400, 500, 600, 700, 800, 900, 1000]},\n",
       "          pre_dispatch='2*n_jobs', random_state=42, refit=True,\n",
       "          return_train_score='warn', scoring='roc_auc', verbose=2)"
      ]
     },
     "execution_count": 79,
     "metadata": {},
     "output_type": "execute_result"
    }
   ],
   "source": [
    "# Fit the grid search to the data\n",
    "xg_Grid.fit(X_train, y_train)"
   ]
  },
  {
   "cell_type": "markdown",
   "metadata": {},
   "source": [
    "#### b) Use the best estimator from RandomSearchCV to predict on test data. Use the .predict_proba() and the .predict() methods to get predicted probabilities as well as predicted classes."
   ]
  },
  {
   "cell_type": "code",
   "execution_count": 81,
   "metadata": {},
   "outputs": [
    {
     "data": {
      "text/plain": [
       "{'n_estimators': 700, 'max_depth': 1, 'learning_rate': 0.8, 'gamma': 0.25}"
      ]
     },
     "execution_count": 81,
     "metadata": {},
     "output_type": "execute_result"
    }
   ],
   "source": [
    "xg_Grid.best_params_"
   ]
  },
  {
   "cell_type": "code",
   "execution_count": 82,
   "metadata": {},
   "outputs": [],
   "source": [
    "xg_mdl = xg_Grid.best_estimator_"
   ]
  },
  {
   "cell_type": "code",
   "execution_count": 89,
   "metadata": {},
   "outputs": [],
   "source": [
    "predY_4 = xg_mdl.predict(X_test)\n",
    "predProb_4 = xg_mdl.predict_proba(X_test)"
   ]
  },
  {
   "cell_type": "markdown",
   "metadata": {},
   "source": [
    "#### c) Calculate the confusion matrix and classification report (both are in sklearn.metrics)."
   ]
  },
  {
   "cell_type": "code",
   "execution_count": 90,
   "metadata": {},
   "outputs": [
    {
     "name": "stdout",
     "output_type": "stream",
     "text": [
      "Confusion Matrix\n",
      "\n",
      " [[7019  436]\n",
      " [ 825 1489]]\n",
      "\n",
      "\n",
      "\n",
      "Classification Report\n",
      "\n",
      "               precision    recall  f1-score   support\n",
      "\n",
      "           0       0.89      0.94      0.92      7455\n",
      "           1       0.77      0.64      0.70      2314\n",
      "\n",
      "   micro avg       0.87      0.87      0.87      9769\n",
      "   macro avg       0.83      0.79      0.81      9769\n",
      "weighted avg       0.87      0.87      0.87      9769\n",
      "\n"
     ]
    }
   ],
   "source": [
    "#Confusion Matrix\n",
    "cnf_matrix = metrics.confusion_matrix(y_test, predY_4)\n",
    "print(\"Confusion Matrix\\n\\n\", cnf_matrix)\n",
    "\n",
    "print(\"\\n\\n\")\n",
    "#Classification Report\n",
    "cl_report = metrics.classification_report(y_test, predY_4)\n",
    "print(\"Classification Report\\n\\n\", cl_report)"
   ]
  },
  {
   "cell_type": "markdown",
   "metadata": {},
   "source": [
    "#### d) Calculate the AUC score"
   ]
  },
  {
   "cell_type": "code",
   "execution_count": 85,
   "metadata": {},
   "outputs": [
    {
     "data": {
      "text/plain": [
       "0.7924951321295679"
      ]
     },
     "execution_count": 85,
     "metadata": {},
     "output_type": "execute_result"
    }
   ],
   "source": [
    "roc_auc_score(y_test, predY_4)"
   ]
  },
  {
   "cell_type": "markdown",
   "metadata": {},
   "source": [
    "#### e) Identify the top 5 features. Feel free to print a list OR to make a plot."
   ]
  },
  {
   "cell_type": "code",
   "execution_count": 86,
   "metadata": {},
   "outputs": [
    {
     "data": {
      "image/png": "[encoded data removed]",
      "text/plain": [
       "<Figure size 432x288 with 1 Axes>"
      ]
     },
     "metadata": {
      "needs_background": "light"
     },
     "output_type": "display_data"
    }
   ],
   "source": [
    "feat_importances = pd.Series(xg_mdl.feature_importances_, index=X_enc.columns)\n",
    "plt = feat_importances.nlargest(5).plot(kind='barh')\n",
    "plt.invert_yaxis()"
   ]
  },
  {
   "cell_type": "markdown",
   "metadata": {},
   "source": [
    "#### f) Using the model from part (b), predict for the train data. Look at the classification report for the train data - is there overfitting for the best estimator?"
   ]
  },
  {
   "cell_type": "code",
   "execution_count": 58,
   "metadata": {},
   "outputs": [],
   "source": [
    "predY_tr_4 = xg_mdl.predict(X_train)\n",
    "predProb_tr_4 = xg_mdl.predict_proba(X_train)"
   ]
  },
  {
   "cell_type": "code",
   "execution_count": 59,
   "metadata": {},
   "outputs": [
    {
     "name": "stdout",
     "output_type": "stream",
     "text": [
      "Confusion Matrix\n",
      "\n",
      " [[17033   232]\n",
      " [  465  5062]]\n",
      "\n",
      "\n",
      "\n",
      "Classification Report\n",
      "\n",
      "               precision    recall  f1-score   support\n",
      "\n",
      "           0       0.97      0.99      0.98     17265\n",
      "           1       0.96      0.92      0.94      5527\n",
      "\n",
      "   micro avg       0.97      0.97      0.97     22792\n",
      "   macro avg       0.96      0.95      0.96     22792\n",
      "weighted avg       0.97      0.97      0.97     22792\n",
      "\n"
     ]
    }
   ],
   "source": [
    "#Confusion Matrix\n",
    "cnf_matrix = metrics.confusion_matrix(y_train, predY_tr_4)\n",
    "print(\"Confusion Matrix\\n\\n\", cnf_matrix)\n",
    "\n",
    "print(\"\\n\\n\")\n",
    "#Classification Report\n",
    "cl_report = metrics.classification_report(y_train, predY_tr_4)\n",
    "print(\"Classification Report\\n\\n\", cl_report)"
   ]
  },
  {
   "cell_type": "markdown",
   "metadata": {},
   "source": [
    "There are signs of overfitting. The difference between the classification reports for Test vs Train is significant (i.e. the accuracy scores are 0.92 vs 0.98, slight difference in other metrics."
   ]
  },
  {
   "cell_type": "markdown",
   "metadata": {},
   "source": [
    "## 6. Moving into Conceptual Problems:"
   ]
  },
  {
   "cell_type": "markdown",
   "metadata": {},
   "source": [
    "#### a) What does the alpha parameter represent in AdaBoost? Please refer to chapter 7 of the Hands-On ML book if you are struggling."
   ]
  },
  {
   "cell_type": "markdown",
   "metadata": {},
   "source": [
    "Alpha = Predictor's weight - The more accurate the predictor is, the higher its weight will be. If it is just guessing randomly, then its weight will be close to zero. However, if it is less accurate than random guessing or mostly wrong, then its weight will be negative. Predictors have different weights depending on their overall accuracy on the weighted training set.\n",
    "\n",
    "Source: Hands on Machine Learning v2"
   ]
  },
  {
   "cell_type": "markdown",
   "metadata": {},
   "source": [
    "#### b) In AdaBoost explain how the final predicted class is determined. Be sure to reference the alpha term in your explanation."
   ]
  },
  {
   "cell_type": "markdown",
   "metadata": {},
   "source": [
    "To make predictions, AdaBoost computes the predictions of all the predictors and weighs them using the predictor weights α. The predicted class is the one that receives the majority of weighted votes.\n",
    "\n",
    "Steps in detail:\n",
    "\n",
    "1. Each instance weight w is initially set to 1/m -> The first predictor is trained and its weighted error rate r is computed on the training set -> The predictor’s weight α is then computed -> instance weights are updated -> All the instance weights are normalized.\n",
    "\n",
    "2. Finally, a new predictor is trained using the updated weights, and the whole process is repeated (the new predictor’s weight is computed, the instance weights are updated, then another predictor is trained, and so on). The algorithm stops when the desired number of predictors is reached, or when a perfect predictor is found.\n",
    "\n",
    "3. To make predictions, AdaBoost computes the predictions of all the predictors and weighs them using the predictor weights α. The predicted class is the one that receives the majority of weighted votes.\n",
    "\n",
    "Source: Hands on Machine Learning v2"
   ]
  },
  {
   "cell_type": "markdown",
   "metadata": {},
   "source": [
    "#### c) In Gradient Boosting, what is the role of the max_depth parameter? Why is it important to tune on this parameter?"
   ]
  },
  {
   "cell_type": "markdown",
   "metadata": {},
   "source": [
    "The max_depth is the maximum depth of a tree - this indicates how deep the built tree can be. The deeper the tree, the more splits it has and it captures more information about how the data. It is used to control the complexity of the tree, more specifically, it is used to control over-fitting as higher depth will allow model to learn relations very specific to a particular sample and usually (should be) tuned using CV."
   ]
  },
  {
   "cell_type": "markdown",
   "metadata": {},
   "source": [
    "#### d) In Part (e) of Steps 2-5 you determined the top 5 predictors across each model. Do any predictors show up in the top 5 predictors for all three models? If so, comment on if this predictor makes sense given what you are attempting to predict. (Note: If you don't have any predictors showing up across all 3 predictors, explain one that shows up in 2 of them)."
   ]
  },
  {
   "cell_type": "markdown",
   "metadata": {},
   "source": [
    "\"Education_Num\" showed up for all the 4 models.\n",
    "\n",
    "No. of years of education is a strong predictor of salary. More educated individual will earn more as compared to less educated individual\n",
    "\n",
    "Also, \"Capital Gain\" came up to be significant in 3 out of 4 models \n",
    "\n",
    "Capital Gain probably has very high predictive power because it is \"income from investment sources, apart from wages / salary\". An individual who is wealthy enough (make enough money from salary, meaning >50k) would participate in investment activities and generate income from those investement activities."
   ]
  },
  {
   "cell_type": "markdown",
   "metadata": {},
   "source": [
    "#### e) From the models run in steps 2-5, which performs the best based on the Classification Report? Support your reasoning with evidence from your test data and be sure to share the optimal hyperparameters found from your grid search."
   ]
  },
  {
   "cell_type": "markdown",
   "metadata": {},
   "source": [
    "AdaBoost, Gradient Boosting and XGBoost all performed pretty well and all had very similar numbers from the Classification Report for the test data. But Gradient Boosting and AdaBoost both performed slightly better than AdaBoost in terms of overfitting and had identical numbers for Precision, Recall and F1-score. So the top performing models for this exercise is: GB and XGB.\n",
    "\n",
    "Optimal hyperparameters for GradBoost:\n",
    "\n",
    "{'learning_rate': 0.2, 'max_depth': 2, 'n_estimators': 400}\n",
    "\n",
    "Optimal hyperparameters for AdaBoost:\n",
    "\n",
    "{'learning_rate': 1.2, 'n_estimators': 400}"
   ]
  },
  {
   "cell_type": "markdown",
   "metadata": {},
   "source": [
    "#### f) For your best performing model, plot out a ROC curve using your test data. Feel free to use sklearn, matplotlib or any other method in python. Describe what the x-axis & y-axis of the ROC curve tell us about a classifier."
   ]
  },
  {
   "cell_type": "markdown",
   "metadata": {},
   "source": [
    "I am going to select GB as the best performing model for this exercise and plot out the ROC curve"
   ]
  },
  {
   "cell_type": "code",
   "execution_count": 91,
   "metadata": {},
   "outputs": [],
   "source": [
    "from sklearn.metrics import roc_curve, auc\n",
    "import matplotlib.pyplot as plt"
   ]
  },
  {
   "cell_type": "code",
   "execution_count": 92,
   "metadata": {},
   "outputs": [
    {
     "data": {
      "image/png": "[encoded data removed]",
      "text/plain": [
       "<Figure size 576x576 with 1 Axes>"
      ]
     },
     "metadata": {
      "needs_background": "light"
     },
     "output_type": "display_data"
    }
   ],
   "source": [
    "fpr, tpr, thresholds = roc_curve(predY_3, y_test)\n",
    "roc_auc = auc(fpr, tpr)\n",
    "lw = 2\n",
    "plt.figure(figsize=(8, 8))\n",
    "plt.plot(fpr, tpr, color = 'orange', lw=lw, label = 'ROC curve (area = %0.3f)' % roc_auc)\n",
    "plt.plot([0, 1], [0,1], color = 'red', lw = lw, linestyle = '--')\n",
    "plt.xlim([0.0, 1.0])\n",
    "plt.ylim([0.0, 1.1])\n",
    "plt.xlabel('False Positive Rate')\n",
    "plt.ylabel('True Positive Rate')\n",
    "plt.title('ROC')\n",
    "plt.legend(loc='lower right')\n",
    "plt.show()"
   ]
  },
  {
   "cell_type": "markdown",
   "metadata": {},
   "source": [
    "The ROC curve illustrates the classification ability of the binary classifier (Gradient Boost in this case) as its discrimination threshold is varied. The x-axis and y-axis are the proportion of correctly classified data points (true positive rate; on the y-axis) and the proportion of \"false positives\" (on the x-axis).\n",
    "\n",
    "For my reference: The ROC curve is created by plotting the true positive rate (TPR) against the false positive rate (FPR) at various threshold settings. The true-positive rate is also known as sensitivity, recall or probability of detection. The false-positive rate is also known as the fall-out or probability of false alarm and can be calculated as (1 − specificity)."
   ]
  }
 ],
 "metadata": {
  "kernelspec": {
   "display_name": "Python 3",
   "language": "python",
   "name": "python3"
  },
  "language_info": {
   "codemirror_mode": {
    "name": "ipython",
    "version": 3
   },
   "file_extension": ".py",
   "mimetype": "text/x-python",
   "name": "python",
   "nbconvert_exporter": "python",
   "pygments_lexer": "ipython3",
   "version": "3.7.3"
  }
 },
 "nbformat": 4,
 "nbformat_minor": 2
}
