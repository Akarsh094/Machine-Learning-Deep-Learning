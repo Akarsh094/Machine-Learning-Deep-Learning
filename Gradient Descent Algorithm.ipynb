{
 "cells": [
  {
   "cell_type": "markdown",
   "metadata": {},
   "source": [
    "## Assignment 2\n",
    "## Akarsh Sahu\n",
    "## Date - 10/09/2019"
   ]
  },
  {
   "cell_type": "markdown",
   "metadata": {},
   "source": [
    "### Part A"
   ]
  },
  {
   "cell_type": "markdown",
   "metadata": {},
   "source": [
    "Load Libraries"
   ]
  },
  {
   "cell_type": "code",
   "execution_count": 1,
   "metadata": {},
   "outputs": [],
   "source": [
    "import random\n",
    "import seaborn as sns\n",
    "import matplotlib.pyplot as plt\n",
    "import numpy as np\n",
    "import pandas as pd\n",
    "\n",
    "# Importing some of my preferred plotting settings\n",
    "plt.rcParams['axes.facecolor'] = 'white'\n",
    "plt.rcParams['axes.edgecolor'] = 'black'\n",
    "plt.rcParams['axes.linewidth'] = 1\n",
    "plt.rcParams['lines.linewidth'] = 3"
   ]
  },
  {
   "cell_type": "markdown",
   "metadata": {},
   "source": [
    "1) We will increase the complexity of our model slightly by increasing the number of features. Keep the following features:\n",
    "\n",
    "-T_degC (water temperature)\n",
    "-Salnty (salinity of water)\n",
    "-STheta (density of water)\n",
    "-O2ml_L (milliliters of dissolved oxygen per liter of water)\n",
    "-Depthm (depth in meters)"
   ]
  },
  {
   "cell_type": "code",
   "execution_count": 3,
   "metadata": {
    "scrolled": true
   },
   "outputs": [
    {
     "name": "stderr",
     "output_type": "stream",
     "text": [
      "C:\\Users\\akars\\Anaconda3\\lib\\site-packages\\IPython\\core\\interactiveshell.py:3049: DtypeWarning: Columns (47,73) have mixed types. Specify dtype option on import or set low_memory=False.\n",
      "  interactivity=interactivity, compiler=compiler, result=result)\n"
     ]
    },
    {
     "data": {
      "text/html": [
       "<div>\n",
       "<style scoped>\n",
       "    .dataframe tbody tr th:only-of-type {\n",
       "        vertical-align: middle;\n",
       "    }\n",
       "\n",
       "    .dataframe tbody tr th {\n",
       "        vertical-align: top;\n",
       "    }\n",
       "\n",
       "    .dataframe thead th {\n",
       "        text-align: right;\n",
       "    }\n",
       "</style>\n",
       "<table border=\"1\" class=\"dataframe\">\n",
       "  <thead>\n",
       "    <tr style=\"text-align: right;\">\n",
       "      <th></th>\n",
       "      <th>Cst_Cnt</th>\n",
       "      <th>Btl_Cnt</th>\n",
       "      <th>Sta_ID</th>\n",
       "      <th>Depth_ID</th>\n",
       "      <th>Depthm</th>\n",
       "      <th>T_degC</th>\n",
       "      <th>Salnty</th>\n",
       "      <th>O2ml_L</th>\n",
       "      <th>STheta</th>\n",
       "      <th>O2Sat</th>\n",
       "      <th>...</th>\n",
       "      <th>R_PHAEO</th>\n",
       "      <th>R_PRES</th>\n",
       "      <th>R_SAMP</th>\n",
       "      <th>DIC1</th>\n",
       "      <th>DIC2</th>\n",
       "      <th>TA1</th>\n",
       "      <th>TA2</th>\n",
       "      <th>pH2</th>\n",
       "      <th>pH1</th>\n",
       "      <th>DIC Quality Comment</th>\n",
       "    </tr>\n",
       "  </thead>\n",
       "  <tbody>\n",
       "    <tr>\n",
       "      <th>0</th>\n",
       "      <td>1</td>\n",
       "      <td>1</td>\n",
       "      <td>054.0 056.0</td>\n",
       "      <td>19-4903CR-HY-060-0930-05400560-0000A-3</td>\n",
       "      <td>0</td>\n",
       "      <td>10.50</td>\n",
       "      <td>33.440</td>\n",
       "      <td>NaN</td>\n",
       "      <td>25.649</td>\n",
       "      <td>NaN</td>\n",
       "      <td>...</td>\n",
       "      <td>NaN</td>\n",
       "      <td>0</td>\n",
       "      <td>NaN</td>\n",
       "      <td>NaN</td>\n",
       "      <td>NaN</td>\n",
       "      <td>NaN</td>\n",
       "      <td>NaN</td>\n",
       "      <td>NaN</td>\n",
       "      <td>NaN</td>\n",
       "      <td>NaN</td>\n",
       "    </tr>\n",
       "    <tr>\n",
       "      <th>1</th>\n",
       "      <td>1</td>\n",
       "      <td>2</td>\n",
       "      <td>054.0 056.0</td>\n",
       "      <td>19-4903CR-HY-060-0930-05400560-0008A-3</td>\n",
       "      <td>8</td>\n",
       "      <td>10.46</td>\n",
       "      <td>33.440</td>\n",
       "      <td>NaN</td>\n",
       "      <td>25.656</td>\n",
       "      <td>NaN</td>\n",
       "      <td>...</td>\n",
       "      <td>NaN</td>\n",
       "      <td>8</td>\n",
       "      <td>NaN</td>\n",
       "      <td>NaN</td>\n",
       "      <td>NaN</td>\n",
       "      <td>NaN</td>\n",
       "      <td>NaN</td>\n",
       "      <td>NaN</td>\n",
       "      <td>NaN</td>\n",
       "      <td>NaN</td>\n",
       "    </tr>\n",
       "    <tr>\n",
       "      <th>2</th>\n",
       "      <td>1</td>\n",
       "      <td>3</td>\n",
       "      <td>054.0 056.0</td>\n",
       "      <td>19-4903CR-HY-060-0930-05400560-0010A-7</td>\n",
       "      <td>10</td>\n",
       "      <td>10.46</td>\n",
       "      <td>33.437</td>\n",
       "      <td>NaN</td>\n",
       "      <td>25.654</td>\n",
       "      <td>NaN</td>\n",
       "      <td>...</td>\n",
       "      <td>NaN</td>\n",
       "      <td>10</td>\n",
       "      <td>NaN</td>\n",
       "      <td>NaN</td>\n",
       "      <td>NaN</td>\n",
       "      <td>NaN</td>\n",
       "      <td>NaN</td>\n",
       "      <td>NaN</td>\n",
       "      <td>NaN</td>\n",
       "      <td>NaN</td>\n",
       "    </tr>\n",
       "    <tr>\n",
       "      <th>3</th>\n",
       "      <td>1</td>\n",
       "      <td>4</td>\n",
       "      <td>054.0 056.0</td>\n",
       "      <td>19-4903CR-HY-060-0930-05400560-0019A-3</td>\n",
       "      <td>19</td>\n",
       "      <td>10.45</td>\n",
       "      <td>33.420</td>\n",
       "      <td>NaN</td>\n",
       "      <td>25.643</td>\n",
       "      <td>NaN</td>\n",
       "      <td>...</td>\n",
       "      <td>NaN</td>\n",
       "      <td>19</td>\n",
       "      <td>NaN</td>\n",
       "      <td>NaN</td>\n",
       "      <td>NaN</td>\n",
       "      <td>NaN</td>\n",
       "      <td>NaN</td>\n",
       "      <td>NaN</td>\n",
       "      <td>NaN</td>\n",
       "      <td>NaN</td>\n",
       "    </tr>\n",
       "    <tr>\n",
       "      <th>4</th>\n",
       "      <td>1</td>\n",
       "      <td>5</td>\n",
       "      <td>054.0 056.0</td>\n",
       "      <td>19-4903CR-HY-060-0930-05400560-0020A-7</td>\n",
       "      <td>20</td>\n",
       "      <td>10.45</td>\n",
       "      <td>33.421</td>\n",
       "      <td>NaN</td>\n",
       "      <td>25.643</td>\n",
       "      <td>NaN</td>\n",
       "      <td>...</td>\n",
       "      <td>NaN</td>\n",
       "      <td>20</td>\n",
       "      <td>NaN</td>\n",
       "      <td>NaN</td>\n",
       "      <td>NaN</td>\n",
       "      <td>NaN</td>\n",
       "      <td>NaN</td>\n",
       "      <td>NaN</td>\n",
       "      <td>NaN</td>\n",
       "      <td>NaN</td>\n",
       "    </tr>\n",
       "  </tbody>\n",
       "</table>\n",
       "<p>5 rows × 74 columns</p>\n",
       "</div>"
      ],
      "text/plain": [
       "   Cst_Cnt  Btl_Cnt       Sta_ID                                Depth_ID  \\\n",
       "0        1        1  054.0 056.0  19-4903CR-HY-060-0930-05400560-0000A-3   \n",
       "1        1        2  054.0 056.0  19-4903CR-HY-060-0930-05400560-0008A-3   \n",
       "2        1        3  054.0 056.0  19-4903CR-HY-060-0930-05400560-0010A-7   \n",
       "3        1        4  054.0 056.0  19-4903CR-HY-060-0930-05400560-0019A-3   \n",
       "4        1        5  054.0 056.0  19-4903CR-HY-060-0930-05400560-0020A-7   \n",
       "\n",
       "   Depthm  T_degC  Salnty  O2ml_L  STheta  O2Sat  ...  R_PHAEO  R_PRES  \\\n",
       "0       0   10.50  33.440     NaN  25.649    NaN  ...      NaN       0   \n",
       "1       8   10.46  33.440     NaN  25.656    NaN  ...      NaN       8   \n",
       "2      10   10.46  33.437     NaN  25.654    NaN  ...      NaN      10   \n",
       "3      19   10.45  33.420     NaN  25.643    NaN  ...      NaN      19   \n",
       "4      20   10.45  33.421     NaN  25.643    NaN  ...      NaN      20   \n",
       "\n",
       "   R_SAMP  DIC1  DIC2  TA1  TA2  pH2  pH1  DIC Quality Comment  \n",
       "0     NaN   NaN   NaN  NaN  NaN  NaN  NaN                  NaN  \n",
       "1     NaN   NaN   NaN  NaN  NaN  NaN  NaN                  NaN  \n",
       "2     NaN   NaN   NaN  NaN  NaN  NaN  NaN                  NaN  \n",
       "3     NaN   NaN   NaN  NaN  NaN  NaN  NaN                  NaN  \n",
       "4     NaN   NaN   NaN  NaN  NaN  NaN  NaN                  NaN  \n",
       "\n",
       "[5 rows x 74 columns]"
      ]
     },
     "execution_count": 3,
     "metadata": {},
     "output_type": "execute_result"
    }
   ],
   "source": [
    "# 1. Import full data set using Pandas\n",
    "\n",
    "data = pd.read_csv('bottle.csv')\n",
    "data.head()"
   ]
  },
  {
   "cell_type": "markdown",
   "metadata": {},
   "source": [
    "2) Remove NaN / NA values from dataset (prior to building train/test sets) (same as HW #1):\n",
    "\n",
    "Shape of your data should be: (661268, 5)\n"
   ]
  },
  {
   "cell_type": "code",
   "execution_count": 4,
   "metadata": {
    "scrolled": true
   },
   "outputs": [
    {
     "data": {
      "text/plain": [
       "(661268, 5)"
      ]
     },
     "execution_count": 4,
     "metadata": {},
     "output_type": "execute_result"
    }
   ],
   "source": [
    "# 2. Select features and remove NaN / NA values from dataset\n",
    "data = data[['T_degC', 'Salnty', 'STheta', 'O2ml_L', 'Depthm']]\n",
    "df = data.dropna()\n",
    "df.shape"
   ]
  },
  {
   "cell_type": "markdown",
   "metadata": {},
   "source": [
    "3) Remove any STheta outliers (same as HW #1).\n",
    "\n",
    "Shape of your data should be: (661268, 5)\n",
    "Note: Outliers for STheta might have been removed due to NAs in new features. Be sure to verify this on your own."
   ]
  },
  {
   "cell_type": "code",
   "execution_count": 7,
   "metadata": {},
   "outputs": [
    {
     "data": {
      "text/plain": [
       "(661268, 5)"
      ]
     },
     "execution_count": 7,
     "metadata": {},
     "output_type": "execute_result"
    }
   ],
   "source": [
    "# R Remove any STheta outliers (same as HW #1)\n",
    "\n",
    "## We will check the outliers in all the 3 variables using z-score(if z-score > 5)\n",
    "from scipy import stats\n",
    "z = np.abs(stats.zscore(df.STheta))\n",
    "#df_1 = df.mask((df - df.mean()).abs() > 3* df.std()).dropna()\n",
    "#df_1.shape\n",
    "df_1 = df[z < 5]\n",
    "df_1.shape"
   ]
  },
  {
   "cell_type": "markdown",
   "metadata": {},
   "source": [
    "### Part B"
   ]
  },
  {
   "cell_type": "markdown",
   "metadata": {},
   "source": [
    "1) Create X & y objects:\n",
    "\n",
    "X object should be all 4 predictors. Shape should be: (661268, 4)\n",
    "y object should be just your target variable (T_degC): Shape should be: (661268, 1)\n",
    "Hint for y: You will need to specify the shape you want. Trying converting y to a numpy array, and then using the .reshape() method."
   ]
  },
  {
   "cell_type": "code",
   "execution_count": 11,
   "metadata": {},
   "outputs": [
    {
     "name": "stdout",
     "output_type": "stream",
     "text": [
      "(661268, 4)\n",
      "(661268, 1)\n"
     ]
    }
   ],
   "source": [
    "X = df_1[['Salnty', 'STheta', 'O2ml_L', 'Depthm']]\n",
    "print(X.shape)\n",
    "y = df_1[['T_degC']]\n",
    "print(y.shape)"
   ]
  },
  {
   "cell_type": "markdown",
   "metadata": {},
   "source": [
    "2) Generate X_train, X_test, y_train & y_test. Use 80% for train & 20% for test."
   ]
  },
  {
   "cell_type": "code",
   "execution_count": 12,
   "metadata": {},
   "outputs": [],
   "source": [
    "# Generate X_train, X_test, y_train & y_test. Use 80% for train & 20% for test.\n",
    "\n",
    "from sklearn.model_selection import train_test_split\n",
    "\n",
    "X, y = X.to_numpy(), y.to_numpy()\n",
    "X_train, X_test, y_train, y_test = train_test_split(X, y, test_size=0.2, random_state = 42)"
   ]
  },
  {
   "cell_type": "markdown",
   "metadata": {},
   "source": [
    "3) Scale all features to improve convergence in Gradient Descent.\n",
    "\n",
    "-You should create two new X objects:\n",
    "\n",
    "-X_train_scaled\n",
    "-X_test_scaled.\n",
    "Note: X_test_scaled must use the scaling parameters learned from training data."
   ]
  },
  {
   "cell_type": "code",
   "execution_count": 85,
   "metadata": {},
   "outputs": [],
   "source": [
    "#  Scale all features to improve convergence in Gradient Descent.\n",
    "\n",
    "from sklearn.preprocessing import StandardScaler\n",
    "scaler = StandardScaler().fit(X_train)\n",
    "X_train_scale = scaler.transform(X_train)\n",
    "X_test_scale = scaler.transform(X_test)"
   ]
  },
  {
   "cell_type": "markdown",
   "metadata": {},
   "source": [
    "### Part C"
   ]
  },
  {
   "cell_type": "markdown",
   "metadata": {},
   "source": [
    "1) Create an instance of the LinearRegression class called \"lin_reg\". Fit lin_reg using X_train & y_train.\n"
   ]
  },
  {
   "cell_type": "code",
   "execution_count": 108,
   "metadata": {},
   "outputs": [
    {
     "data": {
      "text/plain": [
       "LinearRegression(copy_X=True, fit_intercept=True, n_jobs=None,\n",
       "         normalize=False)"
      ]
     },
     "execution_count": 108,
     "metadata": {},
     "output_type": "execute_result"
    }
   ],
   "source": [
    "from sklearn import linear_model\n",
    "lin_reg = linear_model.LinearRegression()\n",
    "lin_reg.fit(X_train_scale, y_train)"
   ]
  },
  {
   "cell_type": "markdown",
   "metadata": {},
   "source": [
    "2) Print out the coefficients (including the intercept)"
   ]
  },
  {
   "cell_type": "code",
   "execution_count": 109,
   "metadata": {},
   "outputs": [
    {
     "data": {
      "text/plain": [
       "(array([10.91541795]),\n",
       " array([[ 1.63046569, -4.6345913 ,  0.3020677 , -0.47495536]]))"
      ]
     },
     "execution_count": 109,
     "metadata": {},
     "output_type": "execute_result"
    }
   ],
   "source": [
    "lin_reg.intercept_, lin_reg.coef_"
   ]
  },
  {
   "cell_type": "markdown",
   "metadata": {},
   "source": [
    "3) Predict T_degC for the test data using lin_reg. Make sure to use X_test_scaled!\n",
    "\n",
    "- Call predictions y_pred_sklearn"
   ]
  },
  {
   "cell_type": "code",
   "execution_count": 111,
   "metadata": {},
   "outputs": [
    {
     "data": {
      "text/plain": [
       "array([[16.68352894],\n",
       "       [ 8.63573844],\n",
       "       [10.70717149],\n",
       "       ...,\n",
       "       [ 6.18878341],\n",
       "       [10.95304487],\n",
       "       [16.36582647]])"
      ]
     },
     "execution_count": 111,
     "metadata": {},
     "output_type": "execute_result"
    }
   ],
   "source": [
    "y_pred_sklearn = lin_reg.predict(X_test_scale)\n",
    "y_pred_sklearn"
   ]
  },
  {
   "cell_type": "markdown",
   "metadata": {},
   "source": [
    "4) Calculate the following for the test data:\n",
    "\n",
    "mean squared error\n",
    "r-squared\n",
    "explained variance"
   ]
  },
  {
   "cell_type": "code",
   "execution_count": null,
   "metadata": {},
   "outputs": [],
   "source": [
    "from sklearn.metrics import mean_squared_error as mse\n",
    "from sklearn.metrics import r2_score as r2\n",
    "from sklearn.metrics import explained_variance_score as ev"
   ]
  },
  {
   "cell_type": "code",
   "execution_count": 112,
   "metadata": {},
   "outputs": [
    {
     "data": {
      "text/plain": [
       "0.11101117205433624"
      ]
     },
     "execution_count": 112,
     "metadata": {},
     "output_type": "execute_result"
    }
   ],
   "source": [
    "# mean squared error\n",
    "\n",
    "mse(y_test, y_pred_sklearn)"
   ]
  },
  {
   "cell_type": "code",
   "execution_count": 113,
   "metadata": {},
   "outputs": [
    {
     "data": {
      "text/plain": [
       "0.9937682503632342"
      ]
     },
     "execution_count": 113,
     "metadata": {},
     "output_type": "execute_result"
    }
   ],
   "source": [
    "# r_squared\n",
    "\n",
    "r2(y_test, y_pred_sklearn)"
   ]
  },
  {
   "cell_type": "code",
   "execution_count": 114,
   "metadata": {},
   "outputs": [
    {
     "data": {
      "text/plain": [
       "0.9937684088237414"
      ]
     },
     "execution_count": 114,
     "metadata": {},
     "output_type": "execute_result"
    }
   ],
   "source": [
    "# explained variance\n",
    "\n",
    "ev(y_test, y_pred_sklearn)"
   ]
  },
  {
   "cell_type": "markdown",
   "metadata": {},
   "source": [
    "5) Create a scatterplot that shows actual versus predicted values for the T_degC."
   ]
  },
  {
   "cell_type": "code",
   "execution_count": 115,
   "metadata": {},
   "outputs": [
    {
     "data": {
      "image/png": "[encoded data removed]",
      "text/plain": [
       "<Figure size 432x288 with 1 Axes>"
      ]
     },
     "metadata": {
      "needs_background": "light"
     },
     "output_type": "display_data"
    }
   ],
   "source": [
    "plt.scatter(y_test, y_pred_sklearn)\n",
    "plt.xlabel('Actual', fontsize=18)\n",
    "plt.ylabel('Predicted', fontsize=18)\n",
    "plt.show()"
   ]
  },
  {
   "cell_type": "markdown",
   "metadata": {},
   "source": [
    "### Part D"
   ]
  },
  {
   "cell_type": "markdown",
   "metadata": {},
   "source": [
    "1) Similar to HW #1, you will need to add a column of 1s to X_train_scaled and X_test_scaled."
   ]
  },
  {
   "cell_type": "code",
   "execution_count": 87,
   "metadata": {},
   "outputs": [],
   "source": [
    "\n",
    "X_train_scale_b = np.c_[np.ones((len(X_train_scale), 1)), X_train_scale]\n",
    "X_test_scale_b = np.c_[np.ones((len(X_test_scale), 1)), X_test_scale]"
   ]
  },
  {
   "cell_type": "code",
   "execution_count": 107,
   "metadata": {},
   "outputs": [
    {
     "data": {
      "text/plain": [
       "array([11.37])"
      ]
     },
     "execution_count": 107,
     "metadata": {},
     "output_type": "execute_result"
    }
   ],
   "source": [
    "y_train[0]"
   ]
  },
  {
   "cell_type": "markdown",
   "metadata": {},
   "source": [
    "2) The cost function we will use for Gradient Descent is MSE (refer to Equation 4-3 in Hands-On Machine Learning Chapter 4).\n",
    "\n",
    "Note: The Hands-on ML Github will be a helpful resource for solving Mini-Batch, but it does include a changing eta through using the learning_schedule function. Do not use a changing eta for this assignment, rather just use a static eta. This means you will need to make changes to the Github example for Mini-Batch."
   ]
  },
  {
   "cell_type": "code",
   "execution_count": 88,
   "metadata": {},
   "outputs": [],
   "source": [
    "#### mini-batch sizes of: 50\n",
    "\n",
    "theta_path_50 = []\n",
    "m = len(X_train_scale_b)\n",
    "eta = 0.1\n",
    "n_iterations = 100\n",
    "minibatch_size = 50\n",
    "\n",
    "np.random.seed(33)\n",
    "theta_50 = np.random.randn(5,1)  # random initialization\n",
    "\n",
    "for epoch in range(n_iterations):\n",
    "    shuffled_indices = np.random.permutation(m)\n",
    "    X_b_shuffled = X_train_scale_b[shuffled_indices]\n",
    "    y_shuffled = y_train[shuffled_indices]\n",
    "    for i in range(0, m, minibatch_size):\n",
    "        xi = X_b_shuffled[i:i+minibatch_size]\n",
    "        yi = y_shuffled[i:i+minibatch_size]\n",
    "        gradients = 2/minibatch_size * xi.T.dot(xi.dot(theta_50) - yi)\n",
    "        eta = eta\n",
    "        theta_50 = theta_50 - (eta * gradients)\n",
    "        theta_path_50.append(theta_50)\n"
   ]
  },
  {
   "cell_type": "code",
   "execution_count": 89,
   "metadata": {
    "scrolled": true
   },
   "outputs": [],
   "source": [
    "#### mini-batch sizes of: 250\n",
    "\n",
    "theta_path_250 = []\n",
    "m = len(X_train_scale_b)\n",
    "eta = 0.1\n",
    "n_iterations = 100\n",
    "minibatch_size = 250\n",
    "\n",
    "np.random.seed(33)\n",
    "theta_250 = np.random.randn(5,1)  # random initialization\n",
    "\n",
    "for epoch in range(n_iterations):\n",
    "    shuffled_indices = np.random.permutation(m)\n",
    "    X_b_shuffled = X_train_scale_b[shuffled_indices]\n",
    "    y_shuffled = y_train[shuffled_indices]\n",
    "    for i in range(0, m, minibatch_size):\n",
    "        xi = X_b_shuffled[i:i+minibatch_size]\n",
    "        yi = y_shuffled[i:i+minibatch_size]\n",
    "        gradients = 2/minibatch_size * xi.T.dot(xi.dot(theta_250) - yi)\n",
    "        eta = eta\n",
    "        theta_250 = theta_250 - (eta * gradients)\n",
    "        theta_path_250.append(theta_250)"
   ]
  },
  {
   "cell_type": "code",
   "execution_count": 90,
   "metadata": {},
   "outputs": [],
   "source": [
    "#### mini-batch sizes of: 2000\n",
    "\n",
    "theta_path_2000 = []\n",
    "m = len(X_train_scale_b)\n",
    "eta = 0.1\n",
    "n_iterations = 100\n",
    "minibatch_size = 2000\n",
    "\n",
    "np.random.seed(33)\n",
    "theta_2000 = np.random.randn(5,1)  # random initialization\n",
    "\n",
    "for epoch in range(n_iterations):\n",
    "    shuffled_indices = np.random.permutation(m)\n",
    "    X_b_shuffled = X_train_scale_b[shuffled_indices]\n",
    "    y_shuffled = y_train[shuffled_indices]\n",
    "    for i in range(0, m, minibatch_size):\n",
    "        xi = X_b_shuffled[i:i+minibatch_size]\n",
    "        yi = y_shuffled[i:i+minibatch_size]\n",
    "        gradients = 2/minibatch_size * xi.T.dot(xi.dot(theta_2000) - yi)\n",
    "        eta = eta\n",
    "        theta_2000 = theta_2000 - (eta * gradients)\n",
    "        theta_path_2000.append(theta_2000)"
   ]
  },
  {
   "cell_type": "code",
   "execution_count": 92,
   "metadata": {},
   "outputs": [
    {
     "name": "stdout",
     "output_type": "stream",
     "text": [
      "Theta values for Minibatch Size - 50\n",
      "[[10.90175069]\n",
      " [ 1.51136769]\n",
      " [-4.56402524]\n",
      " [ 0.28266036]\n",
      " [-0.49445975]]\n",
      "Theta values for Minibatch Size - 250\n",
      "[[10.91570432]\n",
      " [ 1.60208948]\n",
      " [-4.59347468]\n",
      " [ 0.27714535]\n",
      " [-0.49962669]]\n",
      "Theta values for Minibatch Size - 2000\n",
      "[[10.91223779]\n",
      " [ 1.63033244]\n",
      " [-4.6409989 ]\n",
      " [ 0.30222315]\n",
      " [-0.47507553]]\n"
     ]
    }
   ],
   "source": [
    "print(\"Theta values for Minibatch Size - 50\")\n",
    "print(theta_50)\n",
    "print(\"Theta values for Minibatch Size - 250\")\n",
    "print(theta_250)\n",
    "print(\"Theta values for Minibatch Size - 2000\")\n",
    "print(theta_2000)"
   ]
  },
  {
   "cell_type": "code",
   "execution_count": 93,
   "metadata": {},
   "outputs": [],
   "source": [
    "y_predict_50 = X_test_scale_b.dot(theta_50)\n",
    "y_predict_250 = X_test_scale_b.dot(theta_250)\n",
    "y_predict_2000 = X_test_scale_b.dot(theta_2000)"
   ]
  },
  {
   "cell_type": "markdown",
   "metadata": {},
   "source": [
    "4) Calculate the following for the test data:\n",
    "\n",
    "a) mean squared error\n",
    "b) r-squared\n",
    "c) explained variance"
   ]
  },
  {
   "cell_type": "code",
   "execution_count": 94,
   "metadata": {},
   "outputs": [
    {
     "name": "stdout",
     "output_type": "stream",
     "text": [
      "0.11880487356186774\n",
      "0.11244958514906442\n",
      "0.11108851535057446\n"
     ]
    }
   ],
   "source": [
    "# mean squared error\n",
    "\n",
    "from sklearn.metrics import mean_squared_error as mse\n",
    "from sklearn.metrics import r2_score as r2\n",
    "from sklearn.metrics import explained_variance_score as ev\n",
    "\n",
    "print(mse(y_test, y_predict_50))\n",
    "print(mse(y_test, y_predict_250))\n",
    "print(mse(y_test, y_predict_2000))"
   ]
  },
  {
   "cell_type": "code",
   "execution_count": 95,
   "metadata": {},
   "outputs": [
    {
     "name": "stdout",
     "output_type": "stream",
     "text": [
      "0.9933307412761773\n",
      "0.9936875032626072\n",
      "0.993763908601506\n"
     ]
    }
   ],
   "source": [
    "# r_squared\n",
    "\n",
    "print(r2(y_test, y_predict_50))\n",
    "print(r2(y_test, y_predict_250))\n",
    "print(r2(y_test, y_predict_2000))"
   ]
  },
  {
   "cell_type": "code",
   "execution_count": 97,
   "metadata": {},
   "outputs": [
    {
     "name": "stdout",
     "output_type": "stream",
     "text": [
      "0.9933445069121951\n",
      "0.9936876166164587\n",
      "0.9937652321645185\n"
     ]
    }
   ],
   "source": [
    "# explained variance\n",
    "\n",
    "print(ev(y_test, y_predict_50))\n",
    "print(ev(y_test, y_predict_250))\n",
    "print(ev(y_test, y_predict_2000))"
   ]
  },
  {
   "cell_type": "markdown",
   "metadata": {},
   "source": [
    "5) Create a scatterplot that shows actual versus predicted values for the T_degC for the test data."
   ]
  },
  {
   "cell_type": "code",
   "execution_count": 98,
   "metadata": {},
   "outputs": [
    {
     "data": {
      "image/png": "[encoded data removed]",
      "text/plain": [
       "<Figure size 432x288 with 1 Axes>"
      ]
     },
     "metadata": {
      "needs_background": "light"
     },
     "output_type": "display_data"
    }
   ],
   "source": [
    "# batch size = 50 \n",
    "\n",
    "plt.scatter(y_test, y_predict_50)\n",
    "plt.xlabel('Actual', fontsize=18)\n",
    "plt.ylabel('Predicted_mgd_50', fontsize=18)\n",
    "plt.show()"
   ]
  },
  {
   "cell_type": "code",
   "execution_count": 99,
   "metadata": {},
   "outputs": [
    {
     "data": {
      "image/png": "[encoded data removed]",
      "text/plain": [
       "<Figure size 432x288 with 1 Axes>"
      ]
     },
     "metadata": {
      "needs_background": "light"
     },
     "output_type": "display_data"
    }
   ],
   "source": [
    "# batch size = 250 \n",
    "\n",
    "plt.scatter(y_test, y_predict_250)\n",
    "plt.xlabel('Actual', fontsize=18)\n",
    "plt.ylabel('Predicted_mgd_250', fontsize=18)\n",
    "plt.show()"
   ]
  },
  {
   "cell_type": "code",
   "execution_count": 100,
   "metadata": {
    "scrolled": false
   },
   "outputs": [
    {
     "data": {
      "image/png": "[encoded data removed]",
      "text/plain": [
       "<Figure size 432x288 with 1 Axes>"
      ]
     },
     "metadata": {
      "needs_background": "light"
     },
     "output_type": "display_data"
    }
   ],
   "source": [
    "# batch size = 2000 \n",
    "\n",
    "plt.scatter(y_test, y_predict_2000)\n",
    "plt.xlabel('Actual', fontsize=18)\n",
    "plt.ylabel('Predicted_mgd_2000', fontsize=18)\n",
    "plt.show()"
   ]
  },
  {
   "cell_type": "markdown",
   "metadata": {},
   "source": [
    "6) Given we are estimating parameters through gradient descent we also want to check how our error metrics look for training data. Calculate the following for the training data:\n",
    "\n",
    "- mean squared error\n",
    "- r-squared\n",
    "- explained variance"
   ]
  },
  {
   "cell_type": "code",
   "execution_count": 101,
   "metadata": {},
   "outputs": [],
   "source": [
    "y_train_predict_50 = X_train_scale_b.dot(theta_50)\n",
    "y_train_predict_250 = X_train_scale_b.dot(theta_250)\n",
    "y_train_predict_2000 = X_train_scale_b.dot(theta_2000)"
   ]
  },
  {
   "cell_type": "code",
   "execution_count": 102,
   "metadata": {},
   "outputs": [
    {
     "name": "stdout",
     "output_type": "stream",
     "text": [
      "0.11787466325801785\n",
      "0.11205878639262347\n",
      "0.11065214722924115\n"
     ]
    }
   ],
   "source": [
    "# mean squared error\n",
    "\n",
    "print(mse(y_train, y_train_predict_50))\n",
    "print(mse(y_train, y_train_predict_250))\n",
    "print(mse(y_train, y_train_predict_2000))"
   ]
  },
  {
   "cell_type": "code",
   "execution_count": 103,
   "metadata": {},
   "outputs": [
    {
     "name": "stdout",
     "output_type": "stream",
     "text": [
      "0.9933981506915922\n",
      "0.9937238826309279\n",
      "0.9938026647842023\n"
     ]
    }
   ],
   "source": [
    "# r_squared\n",
    "\n",
    "print(r2(y_train, y_train_predict_50))\n",
    "print(r2(y_train, y_train_predict_250))\n",
    "print(r2(y_train, y_train_predict_2000))"
   ]
  },
  {
   "cell_type": "code",
   "execution_count": 104,
   "metadata": {
    "scrolled": true
   },
   "outputs": [
    {
     "name": "stdout",
     "output_type": "stream",
     "text": [
      "0.9934086125233573\n",
      "0.9937238872240236\n",
      "0.993803231209459\n"
     ]
    }
   ],
   "source": [
    "# explained variance\n",
    "\n",
    "print(ev(y_train, y_train_predict_50))\n",
    "print(ev(y_train, y_train_predict_250))\n",
    "print(ev(y_train, y_train_predict_2000))"
   ]
  },
  {
   "cell_type": "markdown",
   "metadata": {},
   "source": [
    "### Part E"
   ]
  },
  {
   "cell_type": "markdown",
   "metadata": {},
   "source": [
    "##### 1) Describe how parameter estimation in Gradient Descent differs from using the normal equation."
   ]
  },
  {
   "cell_type": "markdown",
   "metadata": {},
   "source": [
    "Normal equations utilizes closed-form equations to find the value of θ (theta parameters) that minimizes the cost function. While Gradient Descent, tweaks the parameters iteratively in order to minimize a cost function. It measures the local gradient of the error function (partial derivatives) with regards to the parameter vector θ, and it goes in the direction of descending gradient. Once the gradient is zero, you have reached a minimum. An important parameter in Gradient Descent is the size of the steps, determined by the learning rate hyperparameter."
   ]
  },
  {
   "cell_type": "markdown",
   "metadata": {},
   "source": [
    "##### 2) We used Mini-Batch Gradient descent here, but there are a variety of options for Gradient Descent. How is Mini-Batch Gradient Descent different from Stochastic Gradient Descent?"
   ]
  },
  {
   "cell_type": "markdown",
   "metadata": {},
   "source": [
    "Standard (or Batch) GD calculates the loss and gradients for every training example in order to update the model weight parameters. Instead, Stochastic Gradient Descent calculates the loss and gradients for each training example individually to update the model weight parameters (i.e. no sum over 'm' examples). Mini-batch Gradient Descent is somewhere in the middle. The mini-batch size here is to calculate new weight parameters after a user-defined batch size (i.e. size=50, 250, 2000).\n",
    "\n",
    "The main advantage of Mini-batch GD over Stochastic GD is that you can get a performance boost from hardware optimization of matrix operations, especially when using GPUs. The algorithm’s progress in parameter space is less erratic than with SGD, especially with fairly large mini-batches. As a result, Mini-batch GD will end up walking around a bit closer to the minimum than SGD. But, on the other hand, it may be harder for it to escape from local minima."
   ]
  },
  {
   "cell_type": "markdown",
   "metadata": {},
   "source": [
    "##### 3) Identify your best-performing version of Gradient Descent and compare the error metrics for test data vs training data. Does this version of gradient descent show signs of overfitting? Explain."
   ]
  },
  {
   "cell_type": "markdown",
   "metadata": {},
   "source": [
    "My best performing GD model was the one with the mini-batch size of 2000 with minimum MSE = 11.06. The r-squared is over 0.99, which is extremely high and shows sign of overfitting. This model may not be the best model to generalize (high generalization error). I can use variety of methods to reduce the problem of overfitting: i.e. regularize the model (Ridge, Lasso), check if there are any multicollinearity in predictors, dimension reduction etc."
   ]
  },
  {
   "cell_type": "markdown",
   "metadata": {},
   "source": [
    "##### 4) Explain what the learning rate is for. Even though we did not, why might it be helpful to change the learning rate over time?"
   ]
  },
  {
   "cell_type": "markdown",
   "metadata": {},
   "source": [
    "The size of the steps taken by the GD algorithm in the direction opposite to gradient is called the learning rate. With a high learning rate we can cover more ground each step, but we risk skipping the global minima since the slope of the hill is constantly changing. With a very low learning rate, we can confidently move in the direction of the global minima since each step is very small. A low learning rate is more precise, but is not efficient in terms of \n",
    "\n",
    "We can change the learning rate iteratively if our algorithm is not able to reach the blobal minima. TBest practice is to start with larger learning rate and then reduce it iteratively, we can also use HESSIAN matrix(second order derivative) to calculate ideal learning rate. The function that determines the learning rate at each iteration is called the learning schedule. If the learning rate is reduced too quickly, you may get stuck in a local minimum and never reach the global minima. If the learning rate is reduced too slowly, you may jump around the minimum for a long time and end up with a suboptimal solution if you halt training too early.\n"
   ]
  },
  {
   "cell_type": "markdown",
   "metadata": {},
   "source": [
    "##### 5. Why would a data scientist want to use early stopping in gradient descent? "
   ]
  },
  {
   "cell_type": "markdown",
   "metadata": {},
   "source": [
    "A very different way to regularize iterative learning algorithms such as Gradient Descent is to stop training as soon as the validation error reaches a minimum. This is called early stopping. For example, as an algorithm learns, its prediction error on the training set naturally goes down, and so does its prediction error on the validation set. However, after a while the validation error stops decreasing and actually starts to go back up indicating that the model has started to overfit the training data. With early stopping you just stop training as soon as the validation error reaches the minimum. One reason why data scientists want to use early stopping in GD is that early stopping is such a simple and efficient regularization technique to avoid high generalization error, especially important in the real world scenario where finding the optimal model that can be generalized is very important. Also, early stopping rules provide guidance as to how many iterations can be run before the learner begins to over-fit helping data scientist make better decisions for tuning the models."
   ]
  }
 ],
 "metadata": {
  "kernelspec": {
   "display_name": "Python 3",
   "language": "python",
   "name": "python3"
  },
  "language_info": {
   "codemirror_mode": {
    "name": "ipython",
    "version": 3
   },
   "file_extension": ".py",
   "mimetype": "text/x-python",
   "name": "python",
   "nbconvert_exporter": "python",
   "pygments_lexer": "ipython3",
   "version": "3.7.3"
  }
 },
 "nbformat": 4,
 "nbformat_minor": 2
}
